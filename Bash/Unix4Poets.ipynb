{
 "cells": [
  {
   "cell_type": "markdown",
   "metadata": {},
   "source": [
    "## Exercícios - [\"Unix for Poets\"](https://www.cs.upc.edu/~padro/Unixforpoets.pdf)"
   ]
  },
  {
   "cell_type": "markdown",
   "metadata": {},
   "source": [
    "Vamos demonstrar o uso dos seguintes programas do Unix / Linux:  \n",
    "+ cat\n",
    "+ [tr](https://shapeshed.com/unix-tr/)  \n",
    "+ wc  \n",
    "+ sort  \n",
    "+ uniq  \n",
    "+ head  \n",
    "+ tail  \n",
    "+ [sed](http://www.grymoire.com/Unix/Sed.html)  \n",
    "+ rev  \n",
    "+ paste  \n",
    "+ [grep / egrep](https://ryanstutorials.net/linuxtutorial/grep.php)     \n",
    "\n",
    "\n",
    "    "
   ]
  },
  {
   "cell_type": "code",
   "execution_count": 1,
   "metadata": {},
   "outputs": [
    {
     "name": "stdout",
     "output_type": "stream",
     "text": [
      "/home/rsouza/Documentos/FGV_Programming_Languages/Bash\n"
     ]
    }
   ],
   "source": [
    "!pwd"
   ]
  },
  {
   "cell_type": "markdown",
   "metadata": {},
   "source": [
    "#### 1) Contando palavras em um texto "
   ]
  },
  {
   "cell_type": "markdown",
   "metadata": {},
   "source": [
    "#### 2) Ordenando uma lista de palavras de várias maneiras\n",
    "+ ordem ascii\n",
    "+ ordem alfabética\n",
    "+ ordem de \"rima\""
   ]
  },
  {
   "cell_type": "code",
   "execution_count": 2,
   "metadata": {},
   "outputs": [
    {
     "name": "stdout",
     "output_type": "stream",
     "text": [
      "a\n",
      "A\n",
      "abated\n",
      "Abel\n",
      "Abelmizraim\n",
      "uniq: erro de escrita: Pipe quebrado\n"
     ]
    }
   ],
   "source": [
    "! tr -sc '[A-Z][a-z]' '[\\012*]' < ./Dados/genesis.txt | sort | uniq | head -n5"
   ]
  },
  {
   "cell_type": "code",
   "execution_count": 3,
   "metadata": {},
   "outputs": [
    {
     "name": "stdout",
     "output_type": "stream",
     "text": [
      "    339 a\n",
      "      2 A\n",
      "      3 abated\n",
      "      8 Abel\n",
      "      1 Abelmizraim\n",
      "      1 Abidah\n",
      "      4 abide\n",
      "      1 Abide\n",
      "      1 Abimael\n",
      "     24 Abimelech\n",
      "uniq: erro de escrita: Pipe quebrado\n"
     ]
    }
   ],
   "source": [
    "! tr -sc '[A-Z][a-z]' '[\\012*]' < ./Dados/genesis.txt | sort | uniq -c | head"
   ]
  },
  {
   "cell_type": "code",
   "execution_count": 4,
   "metadata": {},
   "outputs": [
    {
     "name": "stdout",
     "output_type": "stream",
     "text": [
      "   2428 and\n",
      "   2408 the\n",
      "   1360 of\n",
      "   1250 And\n",
      "    651 his\n",
      "    646 he\n",
      "    611 to\n",
      "    590 unto\n",
      "    588 in\n",
      "    509 that\n",
      "sort: erro de escrita: 'saída padrão': Pipe quebrado\n",
      "sort: erro de escrita\n"
     ]
    }
   ],
   "source": [
    "! cat ./Dados/genesis.txt | tr -sc '[A-Z][a-z]' '[\\012*]' | sort | uniq -c | sort -nr | sed 10q"
   ]
  },
  {
   "cell_type": "code",
   "execution_count": 5,
   "metadata": {},
   "outputs": [
    {
     "name": "stdout",
     "output_type": "stream",
     "text": [
      "A\n",
      "ABATED\n",
      "ABEL\n",
      "ABELMIZRAIM\n",
      "ABIDAH\n",
      "ABIDE\n",
      "ABIMAEL\n",
      "ABIMELECH\n",
      "ABLE\n",
      "ABODE\n",
      "uniq: erro de escrita: Pipe quebrado\n"
     ]
    }
   ],
   "source": [
    "! cat ./Dados/genesis.txt | tr '[a-z]' '[A-Z]' | tr -sc '[A-Z]' '[\\012*]' | sort | uniq | sed 10q"
   ]
  },
  {
   "cell_type": "code",
   "execution_count": 6,
   "metadata": {},
   "outputs": [
    {
     "name": "stdout",
     "output_type": "stream",
     "text": [
      "   3678 AND\n",
      "   2459 THE\n",
      "   1366 OF\n",
      "    653 HIS\n",
      "    652 HE\n",
      "    612 TO\n",
      "    600 IN\n",
      "    598 UNTO\n",
      "    520 THAT\n",
      "    484 I\n",
      "sort: erro de escrita: 'saída padrão': Pipe quebrado\n",
      "sort: erro de escrita\n"
     ]
    }
   ],
   "source": [
    "! cat ./Dados/genesis.txt | tr '[a-z]' '[A-Z]' | tr -sc '[A-Z]' '[\\012*]' | sort | uniq -c | sort -gr | sed 10q"
   ]
  },
  {
   "cell_type": "markdown",
   "metadata": {},
   "source": [
    "Substituindo uma palavra com sed:"
   ]
  },
  {
   "cell_type": "code",
   "execution_count": 7,
   "metadata": {},
   "outputs": [
    {
     "name": "stdout",
     "output_type": "stream",
     "text": [
      "The First Book of Moses:  Called Genesis \n",
      "\n",
      "1:1 In the beginning Zeus created the heaven and the earth. \n",
      "1:2 And the earth was without form, and void; and darkness was upon the face of the deep. And the Spirit of Zeus moved upon the face of the waters. \n",
      "1:3 And Zeus said, Let there be light: and there was light. \n",
      "sed: não foi possível escrever 540 itens para stdout: Pipe quebrado\n",
      "cat: erro de escrita: Pipe quebrado\n"
     ]
    }
   ],
   "source": [
    "! cat ./Dados/genesis.txt | sed 's/God/Zeus/g' | sed 5q"
   ]
  },
  {
   "cell_type": "code",
   "execution_count": 8,
   "metadata": {},
   "outputs": [
    {
     "name": "stdout",
     "output_type": "stream",
     "text": [
      "      1 Shed\n",
      "      3 washed\n",
      "      3 leanfleshed\n",
      "      2 fatfleshed\n",
      "      2 established\n",
      "      1 famished\n",
      "      1 finished\n",
      "      1 nourished\n",
      "      1 breathed\n",
      "      1 clothed\n",
      "     33 died\n",
      "      1 magnified\n",
      "      1 verified\n",
      "      1 sanctified\n",
      "      1 multiplied\n",
      "      1 denied\n",
      "      1 espied\n",
      "      1 wearied\n",
      "      7 cried\n",
      "      3 dried\n",
      "      4 carried\n"
     ]
    }
   ],
   "source": [
    "! cat ./Dados/genesis.txt | tr -sc '[A-Z][a-z]' '[\\012*]' | rev | sort | rev | uniq -c | sed -n '110,130p'"
   ]
  },
  {
   "cell_type": "markdown",
   "metadata": {},
   "source": [
    "#### 3) Encontrando n-gramas"
   ]
  },
  {
   "cell_type": "code",
   "execution_count": 9,
   "metadata": {},
   "outputs": [],
   "source": [
    "! cat ./Dados/genesis.txt | tr -sc '[A-Z][a-z]' '[\\012*]' > ./Dados/genesis.words\n",
    "! tail -n+2 ./Dados/genesis.words > ./Dados/genesis.nextwords"
   ]
  },
  {
   "cell_type": "code",
   "execution_count": 10,
   "metadata": {},
   "outputs": [
    {
     "name": "stdout",
     "output_type": "stream",
     "text": [
      "The\tFirst\n",
      "First\tBook\n",
      "Book\tof\n",
      "of\tMoses\n",
      "Moses\tCalled\n",
      "paste: erro de escrita: Pipe quebrado\n",
      "paste: erro de escrita\n"
     ]
    }
   ],
   "source": [
    "! paste ./Dados/genesis.words ./Dados/genesis.nextwords | sed 5q"
   ]
  },
  {
   "cell_type": "code",
   "execution_count": 11,
   "metadata": {},
   "outputs": [],
   "source": [
    "! paste ./Dados/genesis.words ./Dados/genesis.nextwords | sort | uniq -c > ./Dados/genesis.bigrams"
   ]
  },
  {
   "cell_type": "code",
   "execution_count": 12,
   "metadata": {},
   "outputs": [
    {
     "name": "stdout",
     "output_type": "stream",
     "text": [
      "      1 abated\tAnd\n",
      "      2 abated\tfrom\n",
      "      1 Abel\tand\n",
      "      1 Abel\tAnd\n",
      "      1 Abel\the\n",
      "      2 Abel\this\n",
      "      1 Abelmizraim\twhich\n",
      "      1 Abel\tthy\n",
      "      1 Abel\twas\n",
      "      1 Abel\twhom\n",
      "cat: erro de escrita: Pipe quebrado\n"
     ]
    }
   ],
   "source": [
    "! cat ./Dados/genesis.bigrams | head "
   ]
  },
  {
   "cell_type": "code",
   "execution_count": 13,
   "metadata": {},
   "outputs": [],
   "source": [
    "! paste ./Dados/genesis.words ./Dados/genesis.nextwords | sort | uniq -c | sort -gr > ./Dados/genesis.bigrams.freq"
   ]
  },
  {
   "cell_type": "code",
   "execution_count": 14,
   "metadata": {},
   "outputs": [
    {
     "name": "stdout",
     "output_type": "stream",
     "text": [
      "    372 of\tthe\n",
      "    287 in\tthe\n",
      "    192 And\the\n",
      "    185 And\tthe\n",
      "    178 said\tunto\n",
      "    174 and\tthe\n",
      "    158 the\tLORD\n",
      "    157 the\tland\n",
      "    146 and\the\n",
      "    115 he\tsaid\n",
      "cat: erro de escrita: Pipe quebrado\n"
     ]
    }
   ],
   "source": [
    "! cat ./Dados/genesis.bigrams.freq | head "
   ]
  },
  {
   "cell_type": "code",
   "execution_count": 15,
   "metadata": {},
   "outputs": [],
   "source": [
    "! cat ./Dados/genesis.txt | tr -sc '[A-Z][a-z]' '[\\012*]' > genesis.words\n",
    "! tail -n+2 ./Dados/genesis.words > ./Dados/genesis.nextwords\n",
    "! tail -n+3 ./Dados/genesis.words > ./Dados/genesis.nextwords2\n",
    "! paste ./Dados/genesis.words ./Dados/genesis.nextwords ./Dados/genesis.nextwords2 | sort | uniq -c > ./Dados/genesis.trigrams"
   ]
  },
  {
   "cell_type": "code",
   "execution_count": 16,
   "metadata": {},
   "outputs": [
    {
     "name": "stdout",
     "output_type": "stream",
     "text": [
      "      1 abated\tAnd\tthe\n",
      "      2 abated\tfrom\toff\n",
      "      1 Abel\tAnd\tAbel\n",
      "      1 Abel\tand\tto\n",
      "      1 Abel\the\talso\n",
      "      2 Abel\this\tbrother\n",
      "      1 Abelmizraim\twhich\tis\n",
      "      1 Abel\tthy\tbrother\n",
      "      1 Abel\twas\ta\n",
      "      1 Abel\twhom\tCain\n",
      "cat: erro de escrita: Pipe quebrado\n"
     ]
    }
   ],
   "source": [
    "! cat ./Dados/genesis.trigrams | head "
   ]
  },
  {
   "cell_type": "code",
   "execution_count": 17,
   "metadata": {},
   "outputs": [],
   "source": [
    "!paste ./Dados/genesis.words ./Dados/genesis.nextwords ./Dados/genesis.nextwords2 | sort | uniq -c | sort -gr > ./Dados/genesis.trigrams.freq "
   ]
  },
  {
   "cell_type": "code",
   "execution_count": 18,
   "metadata": {},
   "outputs": [
    {
     "name": "stdout",
     "output_type": "stream",
     "text": [
      "    101 the\tland\tof\n",
      "     84 And\the\tsaid\n",
      "     69 the\tsons\tof\n",
      "     68 in\tthe\tland\n",
      "     63 it\tcame\tto\n",
      "     63 came\tto\tpass\n",
      "     60 And\tit\tcame\n",
      "     43 said\tunto\thim\n",
      "     41 the\tname\tof\n",
      "     37 And\tthe\tLORD\n",
      "cat: erro de escrita: Pipe quebrado\n"
     ]
    }
   ],
   "source": [
    "! cat ./Dados/genesis.trigrams.freq | head "
   ]
  },
  {
   "cell_type": "markdown",
   "metadata": {},
   "source": [
    "#### 4) Buscando por [padrões](https://www.cyberciti.biz/faq/grep-regular-expressions/) com [grep and egrep](https://www.digitalocean.com/community/tutorials/using-grep-regular-expressions-to-search-for-text-patterns-in-linux)"
   ]
  },
  {
   "cell_type": "raw",
   "metadata": {},
   "source": [
    "Example               Explanation\n",
    "___________________________________________\n",
    "grep gh          find lines containing \"gh\"\n",
    "grep '^con'      find lines beginning with \"con\"\n",
    "grep 'ing$'      find lines ending with \"ing\"\n",
    "grep –v gh       delete lines containing \"gh\"\n",
    "grep –v '^con'   delete lines beginning with \"con\"\n",
    "grep –v 'ing$'   delete lines ending with \"ing\""
   ]
  },
  {
   "cell_type": "code",
   "execution_count": 19,
   "metadata": {},
   "outputs": [
    {
     "name": "stdout",
     "output_type": "stream",
     "text": [
      "4:16 And Cain went out from the presence of the LORD, and dwelt in the land of Nod, on the east of Eden. \n",
      "10:10 And the beginning of his kingdom was Babel, and Erech, and Accad, and Calneh, in the land of Shinar. \n",
      "11:2 And it came to pass, as they journeyed from the east, that they found a plain in the land of Shinar; and they dwelt there. \n",
      "11:28 And Haran died before his father Terah in the land of his nativity, in Ur of the Chaldees. \n",
      "11:31 And Terah took Abram his son, and Lot the son of Haran his son's son, and Sarai his daughter in law, his son Abram's wife; and they went forth with them from Ur of the Chaldees, to go into the land of Canaan; and they came unto Haran, and dwelt there. \n",
      "12:5 And Abram took Sarai his wife, and Lot his brother's son, and all their substance that they had gathered, and the souls that they had gotten in Haran; and they went forth to go into the land of Canaan; and into the land of Canaan they came. \n",
      "13:10 And Lot lifted up his eyes, and beheld all the plain of Jordan, that it was well watered every where, before the LORD destroyed Sodom and Gomorrah, even as the garden of the LORD, like the land of Egypt, as thou comest unto Zoar. \n",
      "13:12 Abram dwelled in the land of Canaan, and Lot dwelled in the cities of the plain, and pitched his tent toward Sodom. \n",
      "16:3 And Sarai Abram's wife took Hagar her maid the Egyptian, after Abram had dwelt ten years in the land of Canaan, and gave her to her husband Abram to be his wife. \n",
      "17:8 And I will give unto thee, and to thy seed after thee, the land wherein thou art a stranger, all the land of Canaan, for an everlasting possession; and I will be their God. \n"
     ]
    }
   ],
   "source": [
    "cat ./Dados/genesis.txt | grep 'the land of' | sed 10q"
   ]
  },
  {
   "cell_type": "code",
   "execution_count": 20,
   "metadata": {},
   "outputs": [
    {
     "name": "stdout",
     "output_type": "stream",
     "text": [
      "    187    7435   37666\n"
     ]
    }
   ],
   "source": [
    "! cat ./Dados/genesis.txt | grep 'God' | wc"
   ]
  },
  {
   "cell_type": "code",
   "execution_count": 21,
   "metadata": {},
   "outputs": [
    {
     "name": "stdout",
     "output_type": "stream",
     "text": [
      "233\n"
     ]
    }
   ],
   "source": [
    "! cat ./Dados/genesis.txt | grep -o 'God' | wc -l"
   ]
  },
  {
   "cell_type": "code",
   "execution_count": 22,
   "metadata": {},
   "outputs": [
    {
     "name": "stdout",
     "output_type": "stream",
     "text": [
      "238\n"
     ]
    }
   ],
   "source": [
    "! cat ./Dados/genesis.txt | grep -io 'God' | wc -l"
   ]
  },
  {
   "cell_type": "code",
   "execution_count": 23,
   "metadata": {},
   "outputs": [
    {
     "name": "stdout",
     "output_type": "stream",
     "text": [
      "238\n"
     ]
    }
   ],
   "source": [
    "! cat ./Dados/genesis.txt | tr '[A-Z]' '[a-z]' | tr -sc '[a-z]' '[\\012*]' | grep 'god' | wc -l"
   ]
  },
  {
   "cell_type": "markdown",
   "metadata": {},
   "source": [
    "#### Retirando os números e encontrando a palavra God"
   ]
  },
  {
   "cell_type": "code",
   "execution_count": 24,
   "metadata": {},
   "outputs": [
    {
     "name": "stdout",
     "output_type": "stream",
     "text": [
      "The First Book of Moses:  Called Genesis \n",
      "\n",
      "1:1 In the beginning God created the heaven and the earth. \n",
      "1:2 And the earth was without form, and void; and darkness was upon the face of the deep. And the Spirit of God moved upon the face of the waters. \n",
      "1:3 And God said, Let there be light: and there was light. \n",
      "1:4 And God saw the light, that it was good: and God divided the light from the darkness. \n",
      "1:5 And God called the light Day, and the darkness he called Night. And the evening and the morning were the first day. \n",
      "1:6 And God said, Let there be a firmament in the midst of the waters, and let it divide the waters from the waters. \n",
      "1:7 And God made the firmament, and divided the waters which were under the firmament from the waters which were above the firmament: and it was so. \n",
      "1:8 And God called the firmament Heaven. And the evening and the morning were the second day. \n"
     ]
    }
   ],
   "source": [
    "!head ./Dados/genesis.txt"
   ]
  },
  {
   "cell_type": "code",
   "execution_count": 25,
   "metadata": {},
   "outputs": [
    {
     "name": "stdout",
     "output_type": "stream",
     "text": [
      ": In the beginning God created the heaven and the earth. \n",
      ": And the earth was without form, and void; and darkness was upon the face of the deep. And the Spirit of God moved upon the face of the waters. \n",
      ": And God said, Let there be light: and there was light. \n",
      ": And God saw the light, that it was good: and God divided the light from the darkness. \n",
      ": And God called the light Day, and the darkness he called Night. And the evening and the morning were the first day. \n",
      ": And God said, Let there be a firmament in the midst of the waters, and let it divide the waters from the waters. \n",
      ": And God made the firmament, and divided the waters which were under the firmament from the waters which were above the firmament: and it was so. \n",
      ": And God called the firmament Heaven. And the evening and the morning were the second day. \n",
      ": And God said, Let the waters under the heaven be gathered together unto one place, and let the dry land appear: and it was so. \n",
      ": And God called the dry land Earth; and the gathering together of the waters called he Seas: and God saw that it was good. \n",
      "grep: erro de escrita: Pipe quebrado\n"
     ]
    }
   ],
   "source": [
    "!cat ./Dados/genesis.txt | tr -d '[0-9]' | grep 'God' | sed 10q"
   ]
  },
  {
   "cell_type": "markdown",
   "metadata": {},
   "source": [
    "#### Linhas que começam com \"God\" (depois dos números)"
   ]
  },
  {
   "cell_type": "code",
   "execution_count": 26,
   "metadata": {},
   "outputs": [
    {
     "name": "stdout",
     "output_type": "stream",
     "text": [
      "God shall enlarge Japheth, and he shall dwell in the tents of Shem; and Canaan shall be his servant. \n"
     ]
    }
   ],
   "source": [
    "!cat ./Dados/genesis.txt |sed 's/[0-9]*:[0-9]* //g' | grep '^God.'"
   ]
  },
  {
   "cell_type": "markdown",
   "metadata": {},
   "source": [
    "#### Linhas que não começam por \"And\""
   ]
  },
  {
   "cell_type": "code",
   "execution_count": 27,
   "metadata": {},
   "outputs": [
    {
     "name": "stdout",
     "output_type": "stream",
     "text": [
      "The First Book of Moses Called Genesis \n",
      "\n",
      "In the beginning God created the heaven and the earth. \n",
      "So God created man in his own image, in the image of God created he him; male and female created he them. \n",
      "Thus the heavens and the earth were finished, and all the host of them. \n",
      "These are the generations of the heavens and of the earth when they were created, in the day that the LORD God made the earth and the heavens, And every plant of the field before it was in the earth, and every herb of the field before it grewfor the LORD God had not caused it to rain upon the earth, and there was not a man to till the ground. \n",
      "But there went up a mist from the earth, and watered the whole face of the ground. \n",
      "The name of the first is Pisonthat is it which compasseth the whole land of Havilah, where there is gold; And the gold of that land is goodthere is bdellium and the onyx stone. \n",
      "Therefore shall a man leave his father and his mother, and shall cleave unto his wifeand they shall be one flesh. \n",
      "Now the serpent was more subtil than any beast of the field which the LORD God had made. And he said unto the woman, Yea, hath God said, Ye shall not eat of every tree of the garden?  And the woman said unto the serpent, We may eat of the fruit of the trees of the gardenBut of the fruit of the tree which is in the midst of the garden, God hath said, Ye shall not eat of it, neither shall ye touch it, lest ye die. \n",
      "grep: erro de escrita: Pipe quebrado\n",
      "sed: não foi possível escrever 335 itens para stdout: Pipe quebrado\n",
      "cat: erro de escrita: Pipe quebrado\n"
     ]
    }
   ],
   "source": [
    "! cat ./Dados/genesis.txt | sed 's/[0-9]*:[0-9]* //g' | egrep -iv '^And' | sed 10q"
   ]
  },
  {
   "cell_type": "markdown",
   "metadata": {},
   "source": [
    "#### Linhas que contêm \"earth.\" (com um ponto, que é caracter especial)"
   ]
  },
  {
   "cell_type": "code",
   "execution_count": 28,
   "metadata": {},
   "outputs": [
    {
     "name": "stdout",
     "output_type": "stream",
     "text": [
      "In the beginning God created the heaven and the earth. \n",
      "And God blessed them, saying, Be fruitful, and multiply, and fill the waters in the seas, and let fowl multiply in the earth. \n",
      "And God said, Let us make man in our image, after our likenessand let them have dominion over the fish of the sea, and over the fowl of the air, and over the cattle, and over all the earth, and over every creeping thing that creepeth upon the earth. \n",
      "And God blessed them, and God said unto them, Be fruitful, and multiply, and replenish the earth, and subdue itand have dominion over the fish of the sea, and over the fowl of the air, and over every living thing that moveth upon the earth. \n",
      "And now art thou cursed from the earth, which hath opened her mouth to receive thy brother's blood from thy hand; When thou tillest the ground, it shall not henceforth yield unto thee her strength; a fugitive and a vagabond shalt thou be in the earth. \n",
      "And God looked upon the earth, and, behold, it was corrupt; for all flesh had corrupted his way upon the earth. \n",
      "And God said unto Noah, The end of all flesh is come before me; for the earth is filled with violence through them; and, behold, I will destroy them with the earth. \n",
      "Of fowls also of the air by sevens, the male and the female; to keep seed alive upon the face of all the earth. \n",
      "For yet seven days, and I will cause it to rain upon the earth forty days and forty nights; and every living substance that I have made will I destroy from off the face of the earth. \n",
      "And Noah was six hundred years old when the flood of waters was upon the earth. \n",
      "grep: erro de escrita: Pipe quebrado\n"
     ]
    }
   ],
   "source": [
    "! cat ./Dados/genesis.txt | sed 's/[0-9]*:[0-9]* //g' | egrep 'earth\\.' | sed 10q"
   ]
  },
  {
   "cell_type": "markdown",
   "metadata": {},
   "source": [
    "Linhas que contém \"gold\" seguido obrigatoriamente de ponto ou ponto e vírgula (mas não vírgula)."
   ]
  },
  {
   "cell_type": "code",
   "execution_count": 29,
   "metadata": {},
   "outputs": [
    {
     "name": "stdout",
     "output_type": "stream",
     "text": [
      "The name of the first is Pisonthat is it which compasseth the whole land of Havilah, where there is gold; And the gold of that land is goodthere is bdellium and the onyx stone. \n",
      "And Abram was very rich in cattle, in silver, and in gold. \n",
      "And it came to pass, as the camels had done drinking, that the man took a golden earring of half a shekel weight, and two bracelets for her hands of ten shekels weight of gold; And said, Whose daughter art thou? tell me, I pray theeis there room in thy father's house for us to lodge in?  And she said unto him, I am the daughter of Bethuel the son of Milcah, which she bare unto Nahor. \n"
     ]
    }
   ],
   "source": [
    "! cat ./Dados/genesis.txt | sed 's/[0-9]*:[0-9]* //g' | egrep 'gold[\\.;]+' | sed 10q"
   ]
  },
  {
   "cell_type": "raw",
   "metadata": {},
   "source": [
    "Grep allows ranges of characters (somewhat) like tr.\n",
    "Example              Explanation\n",
    "___________________________________________________\n",
    "grep '[A–Z]'         lines with an uppercase char\n",
    "grep '^[A–Z]'        lines starting with an uppercase char\n",
    "grep '[A–Z]$'        lines ending with an uppercase char\n",
    "grep '^[A–Z]*$'      lines with all uppercase chars\n",
    "grep '[aeiouAEIOU]'  lines with a vowel\n",
    "grep '^[aeiouAEIOU]' lines starting with a vowel\n",
    "grep '[aeiouAEIOU]$' lines ending with a vowel"
   ]
  },
  {
   "cell_type": "markdown",
   "metadata": {},
   "source": [
    "#### Exercícios com grep / egrep\n",
    "\n",
    "1) Quantas palavras maiúsculas distintas há no Genesis?  \n",
    "2) Quantas palavras de 4 letras?  \n",
    "3) Há palavras sem vogais?  \n",
    "4) Há palavras com apenas uma sílaba (somente uma vogal)?  \n",
    "5) Encontre as palavras com exatemente duas sílabas (duas vogais não adjacentes)  \n",
    "6) Encontre os ditongos e tritongos (e hiatos).  \n",
    "7) Encontre versículos do Genesis com a palavra \"light.\" duas e três vezes.  \n",
    "8) Qual a palavra que mais ocorre em uma única linha?"
   ]
  },
  {
   "cell_type": "code",
   "execution_count": 88,
   "metadata": {},
   "outputs": [
    {
     "name": "stdout",
     "output_type": "stream",
     "text": [
      "      2 A\r\n",
      "    484 I\r\n",
      "    170 LORD\r\n",
      "      9 O\r\n"
     ]
    }
   ],
   "source": [
    "#1\n",
    "# totais\n",
    "!tr -sc '[A-Z][a-z]' '[\\012*]' < ./Dados/genesis.txt | grep '^[A-Z]\\{1,\\}$' | sort | uniq -c"
   ]
  },
  {
   "cell_type": "code",
   "execution_count": 90,
   "metadata": {},
   "outputs": [
    {
     "name": "stdout",
     "output_type": "stream",
     "text": [
      "A\r\n",
      "I\r\n",
      "LORD\r\n",
      "O\r\n"
     ]
    }
   ],
   "source": [
    "#1\n",
    "# únicas\n",
    "!tr -sc '[A-Z][a-z]' '[\\012*]' < ./Dados/genesis.txt | grep '^[A-Z]\\{1,\\}$' | sort -u"
   ]
  },
  {
   "cell_type": "code",
   "execution_count": 92,
   "metadata": {},
   "outputs": [
    {
     "name": "stdout",
     "output_type": "stream",
     "text": [
      "9040\r\n"
     ]
    }
   ],
   "source": [
    "#2\n",
    "# totais\n",
    "!tr -sc '[A-Z][a-z]' '[\\012*]' < ./Dados/genesis.txt | grep -ic '^.\\{4\\}$'"
   ]
  },
  {
   "cell_type": "code",
   "execution_count": 96,
   "metadata": {},
   "outputs": [
    {
     "name": "stdout",
     "output_type": "stream",
     "text": [
      "401\r\n"
     ]
    }
   ],
   "source": [
    "#2\n",
    "# únicas\n",
    "!tr -sc '[A-Z][a-z]' '[\\012*]' < ./Dados/genesis.txt | sort -uf | grep -c '^....$'"
   ]
  },
  {
   "cell_type": "code",
   "execution_count": 114,
   "metadata": {},
   "outputs": [
    {
     "name": "stdout",
     "output_type": "stream",
     "text": [
      "     80 by\r\n",
      "      4 By\r\n",
      "      4 cry\r\n",
      "      4 dry\r\n",
      "      1 fly\r\n",
      "    325 my\r\n",
      "     18 My\r\n",
      "      2 myrrh\r\n",
      "    256 s\r\n",
      "    267 thy\r\n",
      "     11 Thy\r\n",
      "      5 why\r\n",
      "      3 Why\r\n"
     ]
    }
   ],
   "source": [
    "#3\n",
    "!tr -sc '[A-Z][a-z]' '[\\012*]' < ./Dados/genesis.txt | egrep -vi '[aeiou]' | sort | uniq -c"
   ]
  },
  {
   "cell_type": "code",
   "execution_count": 119,
   "metadata": {},
   "outputs": [
    {
     "name": "stdout",
     "output_type": "stream",
     "text": [
      "546\r\n"
     ]
    }
   ],
   "source": [
    "#4\n",
    "!tr -sc '[A-Z][a-z]' '[\\012*]' < ./Dados/genesis.txt | grep -i '^[^aeiou]*[aeiou]\\{1\\}[^aeiou]*$' | sort -f | uniq | wc -l"
   ]
  },
  {
   "cell_type": "code",
   "execution_count": 120,
   "metadata": {},
   "outputs": [
    {
     "name": "stdout",
     "output_type": "stream",
     "text": [
      "      8 Abel\r\n",
      "      3 able\r\n",
      "     59 Abram\r\n",
      "      1 absent\r\n",
      "      1 Accad\r\n",
      "      1 accept\r\n",
      "      2 Achbor\r\n",
      "      8 Adah\r\n",
      "     18 Adam\r\n",
      "      1 adder\r\n",
      "uniq: write error: Broken pipe\r\n"
     ]
    }
   ],
   "source": [
    "#5\n",
    "!tr -sc '[A-Z][a-z]' '[\\012*]' < ./Dados/genesis.txt | grep -i '^[^aeiou]*[aeiou]\\{1\\}[^aeiou]*[aeiou]\\{1\\}[^aeiou]*$' | sort | uniq -c | sed 10q"
   ]
  },
  {
   "cell_type": "code",
   "execution_count": 125,
   "metadata": {},
   "outputs": [
    {
     "name": "stdout",
     "output_type": "stream",
     "text": [
      "      1 beautiful\r\n",
      "      1 gracious\r\n",
      "      2 graciously\r\n",
      "      2 plenteous\r\n",
      "      1 plenteousness\r\n",
      "      1 precious\r\n",
      "      5 Reuel\r\n",
      "     10 righteous\r\n",
      "      2 righteousness\r\n",
      "      7 seeing\r\n",
      "      1 Seeing\r\n",
      "      2 Zeboiim\r\n"
     ]
    }
   ],
   "source": [
    "#6\n",
    "#!tr -sc '[A-Z][a-z]' '[\\012*]' < ./Dados/genesis.txt | egrep -i '[aeiou]+[aeiou]+' | sort | uniq -c\n",
    "!tr -sc '[A-Z][a-z]' '[\\012*]' < ./Dados/genesis.txt | grep -i '[aeiou]\\{3\\}' | sort | uniq -c"
   ]
  },
  {
   "cell_type": "code",
   "execution_count": 169,
   "metadata": {},
   "outputs": [
    {
     "name": "stdout",
     "output_type": "stream",
     "text": [
      "lights in the firmament of the heaven to divide the day from the night; and let them be for signs, and for seasons, and for days, and years: 1:15 And let them be for lights in the firmament of the heaven to give light\r\n",
      "lights; the greater light to rule the day, and the lesser light\r\n"
     ]
    }
   ],
   "source": [
    "#7\n",
    "#! grep 'light.*light' < ./Dados/genesis.txt\n",
    "! grep -o 'light.*light.*light' < ./Dados/genesis.txt\n",
    "#! grep '[ln]\\{1\\}ight\\{3,4\\}' < ./Dados/genesis.txt"
   ]
  },
  {
   "cell_type": "code",
   "execution_count": 170,
   "metadata": {},
   "outputs": [
    {
     "name": "stdout",
     "output_type": "stream",
     "text": [
      "17\n",
      "49:22 Joseph is a fruitful bough, even a fruitful bough by a well; whose branches run over the wall: 49:23 The archers have sorely grieved him, and shot at him, and hated him: 49:24 But his bow abode in strength, and the arms of his hands were made strong by the hands of the mighty God of Jacob; (from thence is the shepherd, the stone of Israel:) 49:25 Even by the God of thy father, who shall help thee; and by the Almighty, who shall bless thee with blessings of heaven above, blessings of the deep that lieth under, blessings of the breasts, and of the womb: 49:26 The blessings of thy father have prevailed above the blessings of my progenitors unto the utmost bound of the everlasting hills: they shall be on the head of Joseph, and on the crown of the head of him that was separate from his brethren. \n",
      "\n",
      "Counter({'the': 17, 'of': 15, 'and': 6, 'blessings': 5, 'by': 4, 'him': 4, 'his': 3, 'shall': 3, 'a': 3, 'hands': 2, 'bough': 2, 'thee': 2, 'is': 2, 'head': 2, 'on': 2, 'Joseph': 2, 'who': 2, 'have': 2, 'father': 2, 'The': 2, 'thy': 2, 'God': 2, 'fruitful': 2, 'above': 2, 'that': 2, 'from': 2, 'grieved': 1, 'made': 1, 'Even': 1, 'deep': 1, 'hills': 1, 'well': 1, 'bow': 1, 'Jacob': 1, 'was': 1, 'womb': 1, 'archers': 1, 'wall': 1, 'bless': 1, 'shot': 1, 'hated': 1, 'Israel': 1, 'Almighty': 1, 'help': 1, 'separate': 1, 'even': 1, 'everlasting': 1, 'prevailed': 1, 'arms': 1, 'under': 1, '49:25': 1, 'in': 1, 'progenitors': 1, '49:23': 1, 'whose': 1, '49:24': 1, 'at': 1, 'strong': 1, 'they': 1, 'over': 1, 'mighty': 1, 'were': 1, 'breasts': 1, 'unto': 1, 'crown': 1, 'But': 1, 'stone': 1, 'abode': 1, 'be': 1, 'shepherd': 1, 'brethren': 1, 'with': 1, 'thence': 1, 'heaven': 1, 'sorely': 1, '49:26': 1, 'utmost': 1, 'run': 1, 'my': 1, 'bound': 1, 'lieth': 1, 'branches': 1, 'strength': 1, '49:22': 1})\n"
     ]
    }
   ],
   "source": [
    "#8\n",
    "from collections import Counter\n",
    "import string\n",
    "\n",
    "with open('./Dados/genesis.txt') as f:\n",
    "    l_genesis = f.readlines()\n",
    "    \n",
    "counter_linhas = []\n",
    "\n",
    "for line in l_genesis:\n",
    "    line = [l.strip(string.punctuation) for l in line.split()]\n",
    "    counter_linhas.append(Counter(line))\n",
    "    \n",
    "pos = 0\n",
    "top = 0\n",
    "for idx, count in enumerate(counter_linhas):\n",
    "    if count:\n",
    "        ctop = max(count.values())\n",
    "        if ctop > top:\n",
    "            top = ctop\n",
    "            pos = idx\n",
    "\n",
    "print(top)\n",
    "print(l_genesis[pos])\n",
    "print(counter_linhas[pos])"
   ]
  },
  {
   "cell_type": "code",
   "execution_count": null,
   "metadata": {},
   "outputs": [],
   "source": []
  }
 ],
 "metadata": {
  "kernelspec": {
   "display_name": "Python 3",
   "language": "python",
   "name": "python3"
  },
  "language_info": {
   "codemirror_mode": {
    "name": "ipython",
    "version": 3
   },
   "file_extension": ".py",
   "mimetype": "text/x-python",
   "name": "python",
   "nbconvert_exporter": "python",
   "pygments_lexer": "ipython3",
   "version": "3.5.2"
  }
 },
 "nbformat": 4,
 "nbformat_minor": 2
}
