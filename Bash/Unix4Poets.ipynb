{
 "cells": [
  {
   "cell_type": "markdown",
   "metadata": {},
   "source": [
    "## Exercícios - [\"Unix for Poets\"](https://www.cs.upc.edu/~padro/Unixforpoets.pdf)"
   ]
  },
  {
   "cell_type": "markdown",
   "metadata": {},
   "source": [
    "Vamos demonstrar o uso dos seguintes programas do Unix / Linux:  \n",
    "+ cat\n",
    "+ tr  \n",
    "+ wc  \n",
    "+ sort  \n",
    "+ uniq  \n",
    "+ head  \n",
    "+ tail  \n",
    "+ sed  \n",
    "+ rev  \n",
    "+ paste  \n",
    "+ grep / egrep   \n",
    "\n",
    "\n",
    "    "
   ]
  },
  {
   "cell_type": "code",
   "execution_count": 4,
   "metadata": {},
   "outputs": [
    {
     "name": "stdout",
     "output_type": "stream",
     "text": [
      "/home/rsouza/Documentos/FGV_Programming_Languages/Bash\n"
     ]
    }
   ],
   "source": [
    "!pwd"
   ]
  },
  {
   "cell_type": "markdown",
   "metadata": {},
   "source": [
    "#### 1) Contando palavras em um texto "
   ]
  },
  {
   "cell_type": "markdown",
   "metadata": {},
   "source": [
    "#### 2) Ordenando uma lista de palavras de várias maneiras\n",
    "+ ordem ascii\n",
    "+ ordem alfabética\n",
    "+ ordem de \"rima\""
   ]
  },
  {
   "cell_type": "code",
   "execution_count": 29,
   "metadata": {},
   "outputs": [
    {
     "name": "stdout",
     "output_type": "stream",
     "text": [
      "a\n",
      "A\n",
      "abated\n",
      "Abel\n",
      "Abelmizraim\n",
      "Abidah\n",
      "abide\n",
      "Abide\n",
      "Abimael\n",
      "Abimelech\n",
      "uniq: erro de escrita: Pipe quebrado\n"
     ]
    }
   ],
   "source": [
    "! tr -sc '[A-Z][a-z]' '[\\012*]' < ./Dados/genesis.txt | sort | uniq | head"
   ]
  },
  {
   "cell_type": "code",
   "execution_count": 6,
   "metadata": {},
   "outputs": [
    {
     "name": "stdout",
     "output_type": "stream",
     "text": [
      "    339 a\n",
      "      2 A\n",
      "      3 abated\n",
      "      8 Abel\n",
      "      1 Abelmizraim\n",
      "      1 Abidah\n",
      "      4 abide\n",
      "      1 Abide\n",
      "      1 Abimael\n",
      "     24 Abimelech\n",
      "uniq: erro de escrita: Pipe quebrado\n"
     ]
    }
   ],
   "source": [
    "! tr -sc '[A-Z][a-z]' '[\\012*]' < ./Dados/genesis.txt | sort | uniq -c | head"
   ]
  },
  {
   "cell_type": "code",
   "execution_count": 12,
   "metadata": {},
   "outputs": [
    {
     "name": "stdout",
     "output_type": "stream",
     "text": [
      "   2428 and\n",
      "   2408 the\n",
      "   1360 of\n",
      "   1250 And\n",
      "    651 his\n",
      "    646 he\n",
      "    611 to\n",
      "    590 unto\n",
      "    588 in\n",
      "    509 that\n",
      "sort: erro de escrita: 'saída padrão': Pipe quebrado\n",
      "sort: erro de escrita\n"
     ]
    }
   ],
   "source": [
    "! cat ./Dados/genesis.txt | tr -sc '[A-Z][a-z]' '[\\012*]' | sort | uniq -c | sort -gr | sed 10q"
   ]
  },
  {
   "cell_type": "code",
   "execution_count": 28,
   "metadata": {},
   "outputs": [
    {
     "name": "stdout",
     "output_type": "stream",
     "text": [
      "A\n",
      "ABATED\n",
      "ABEL\n",
      "ABELMIZRAIM\n",
      "ABIDAH\n",
      "ABIDE\n",
      "ABIMAEL\n",
      "ABIMELECH\n",
      "ABLE\n",
      "ABODE\n",
      "uniq: erro de escrita: Pipe quebrado\n"
     ]
    }
   ],
   "source": [
    "! cat ./Dados/genesis.txt | tr '[a-z]' '[A-Z]' | tr -sc '[A-Z]' '[\\012*]' | sort | uniq | sed 10q"
   ]
  },
  {
   "cell_type": "code",
   "execution_count": 14,
   "metadata": {},
   "outputs": [
    {
     "name": "stdout",
     "output_type": "stream",
     "text": [
      "   3678 AND\n",
      "   2459 THE\n",
      "   1366 OF\n",
      "    653 HIS\n",
      "    652 HE\n",
      "    612 TO\n",
      "    600 IN\n",
      "    598 UNTO\n",
      "    520 THAT\n",
      "    484 I\n",
      "sort: erro de escrita: 'saída padrão': Pipe quebrado\n",
      "sort: erro de escrita\n"
     ]
    }
   ],
   "source": [
    "! cat ./Dados/genesis.txt | tr '[a-z]' '[A-Z]' | tr -sc '[A-Z]' '[\\012*]' | sort | uniq -c | sort -gr | sed 10q"
   ]
  },
  {
   "cell_type": "code",
   "execution_count": 26,
   "metadata": {},
   "outputs": [
    {
     "name": "stdout",
     "output_type": "stream",
     "text": [
      "      1 reached\n",
      "      4 searched\n",
      "      2 fetched\n",
      "      2 stretched\n",
      "      7 pitched\n",
      "      1 couched\n",
      "      3 touched\n",
      "      1 weighed\n",
      "      3 laughed\n",
      "      1 shed\n",
      "      1 Shed\n",
      "      3 washed\n",
      "      3 leanfleshed\n",
      "      2 fatfleshed\n",
      "      2 established\n",
      "      1 famished\n",
      "      1 finished\n",
      "      1 nourished\n",
      "      1 breathed\n",
      "      1 clothed\n",
      "     33 died\n"
     ]
    }
   ],
   "source": [
    "! ! cat ./Dados/genesis.txt | tr -sc '[A-Z][a-z]' '[\\012*]' | rev | sort | rev | uniq -c | sed -n '100,120p'"
   ]
  },
  {
   "cell_type": "markdown",
   "metadata": {},
   "source": [
    "#### 3) Encontrando n-gramas"
   ]
  },
  {
   "cell_type": "code",
   "execution_count": 37,
   "metadata": {},
   "outputs": [],
   "source": [
    "! cat ./Dados/genesis.txt | tr -sc '[A-Z][a-z]' '[\\012*]' > ./Dados/genesis.words\n",
    "! tail +2 ./Dados/genesis.words > ./Dados/genesis.nextwords\n",
    "! paste ./Dados/genesis.words ./Dados/genesis.nextwords | sort | uniq -c > ./Dados/genesis.bigrams"
   ]
  },
  {
   "cell_type": "code",
   "execution_count": 38,
   "metadata": {},
   "outputs": [
    {
     "name": "stdout",
     "output_type": "stream",
     "text": [
      "      1 abated\tAnd\n",
      "      2 abated\tfrom\n",
      "      1 Abel\tand\n",
      "      1 Abel\tAnd\n",
      "      1 Abel\the\n",
      "      2 Abel\this\n",
      "      1 Abelmizraim\twhich\n",
      "      1 Abel\tthy\n",
      "      1 Abel\twas\n",
      "      1 Abel\twhom\n",
      "cat: erro de escrita: Pipe quebrado\n"
     ]
    }
   ],
   "source": [
    "! cat ./Dados/genesis.bigrams | head "
   ]
  },
  {
   "cell_type": "code",
   "execution_count": 39,
   "metadata": {},
   "outputs": [],
   "source": [
    "! paste ./Dados/genesis.words ./Dados/genesis.nextwords | sort | uniq -c | sort -gr > ./Dados/genesis.bigrams.freq"
   ]
  },
  {
   "cell_type": "code",
   "execution_count": 40,
   "metadata": {},
   "outputs": [
    {
     "name": "stdout",
     "output_type": "stream",
     "text": [
      "    372 of\tthe\n",
      "    287 in\tthe\n",
      "    192 And\the\n",
      "    185 And\tthe\n",
      "    178 said\tunto\n",
      "    174 and\tthe\n",
      "    158 the\tLORD\n",
      "    157 the\tland\n",
      "    146 and\the\n",
      "    115 he\tsaid\n",
      "cat: erro de escrita: Pipe quebrado\n"
     ]
    }
   ],
   "source": [
    "! cat ./Dados/genesis.bigrams.freq | head "
   ]
  },
  {
   "cell_type": "code",
   "execution_count": 42,
   "metadata": {},
   "outputs": [],
   "source": [
    "! cat ./Dados/genesis.txt | tr -sc '[A-Z][a-z]' '[\\012*]' > genesis.words\n",
    "! tail +2 ./Dados/genesis.words > ./Dados/genesis.nextwords\n",
    "! tail +3 ./Dados/genesis.words > ./Dados/genesis.nextwords2\n",
    "! paste ./Dados/genesis.words ./Dados/genesis.nextwords ./Dados/genesis.nextwords2 | sort | uniq -c > ./Dados/genesis.trigrams"
   ]
  },
  {
   "cell_type": "code",
   "execution_count": 44,
   "metadata": {},
   "outputs": [
    {
     "name": "stdout",
     "output_type": "stream",
     "text": [
      "      1 abated\tAnd\tthe\n",
      "      2 abated\tfrom\toff\n",
      "      1 Abel\tAnd\tAbel\n",
      "      1 Abel\tand\tto\n",
      "      1 Abel\the\talso\n",
      "      2 Abel\this\tbrother\n",
      "      1 Abelmizraim\twhich\tis\n",
      "      1 Abel\tthy\tbrother\n",
      "      1 Abel\twas\ta\n",
      "      1 Abel\twhom\tCain\n",
      "cat: erro de escrita: Pipe quebrado\n"
     ]
    }
   ],
   "source": [
    "! cat ./Dados/genesis.trigrams | head "
   ]
  },
  {
   "cell_type": "code",
   "execution_count": 47,
   "metadata": {},
   "outputs": [],
   "source": [
    "!paste ./Dados/genesis.words ./Dados/genesis.nextwords ./Dados/genesis.nextwords2 | sort | uniq -c | sort -gr > ./Dados/genesis.trigrams.freq "
   ]
  },
  {
   "cell_type": "code",
   "execution_count": 48,
   "metadata": {},
   "outputs": [
    {
     "name": "stdout",
     "output_type": "stream",
     "text": [
      "    101 the\tland\tof\n",
      "     84 And\the\tsaid\n",
      "     69 the\tsons\tof\n",
      "     68 in\tthe\tland\n",
      "     63 it\tcame\tto\n",
      "     63 came\tto\tpass\n",
      "     60 And\tit\tcame\n",
      "     43 said\tunto\thim\n",
      "     41 the\tname\tof\n",
      "     37 And\tthe\tLORD\n",
      "cat: erro de escrita: Pipe quebrado\n"
     ]
    }
   ],
   "source": [
    "! cat ./Dados/genesis.trigrams.freq | head "
   ]
  },
  {
   "cell_type": "markdown",
   "metadata": {},
   "source": [
    "#### 4) Buscando por padrões com [grep and egrep](https://www.digitalocean.com/community/tutorials/using-grep-regular-expressions-to-search-for-text-patterns-in-linux)"
   ]
  },
  {
   "cell_type": "raw",
   "metadata": {},
   "source": [
    "Example               Explanation\n",
    "___________________________________________\n",
    "grep gh          find lines containing ‘‘gh’’\n",
    "grep ’ˆcon’      find lines beginning with ‘‘con’’\n",
    "grep ’ing$’      find lines ending with ‘‘ing’\n",
    "grep –v gh       delete lines containing ‘‘gh’’\n",
    "grep –v ’ˆcon’   delete lines beginning with ‘‘con’’\n",
    "grep –v ’ing$’   delete lines ending with ‘‘ing’’"
   ]
  },
  {
   "cell_type": "raw",
   "metadata": {},
   "source": [
    "Grep allows ranges of characters (somewhat) like tr.\n",
    "Example              Explanation\n",
    "___________________________________________________\n",
    "grep ’[A–Z]’         lines with an uppercase char\n",
    "grep ’ˆ[A–Z]’        lines starting with an uppercase char\n",
    "grep ’[A–Z]$’        lines ending with an uppercase char\n",
    "grep ’ˆ[A–Z]*$’      lines with all uppercase chars\n",
    "grep ’[aeiouAEIOU]’  lines with a vowel\n",
    "grep ’^[aeiouAEIOU]’ lines starting with a vowel\n",
    "grep ’[aeiouAEIOU]$’ lines ending with a vowel"
   ]
  },
  {
   "cell_type": "code",
   "execution_count": 53,
   "metadata": {},
   "outputs": [
    {
     "name": "stdout",
     "output_type": "stream",
     "text": [
      "4:16 And Cain went out from the presence of the LORD, and dwelt in the land of Nod, on the east of Eden. \n",
      "10:10 And the beginning of his kingdom was Babel, and Erech, and Accad, and Calneh, in the land of Shinar. \n",
      "11:2 And it came to pass, as they journeyed from the east, that they found a plain in the land of Shinar; and they dwelt there. \n",
      "11:28 And Haran died before his father Terah in the land of his nativity, in Ur of the Chaldees. \n",
      "11:31 And Terah took Abram his son, and Lot the son of Haran his son's son, and Sarai his daughter in law, his son Abram's wife; and they went forth with them from Ur of the Chaldees, to go into the land of Canaan; and they came unto Haran, and dwelt there. \n",
      "12:5 And Abram took Sarai his wife, and Lot his brother's son, and all their substance that they had gathered, and the souls that they had gotten in Haran; and they went forth to go into the land of Canaan; and into the land of Canaan they came. \n",
      "13:10 And Lot lifted up his eyes, and beheld all the plain of Jordan, that it was well watered every where, before the LORD destroyed Sodom and Gomorrah, even as the garden of the LORD, like the land of Egypt, as thou comest unto Zoar. \n",
      "13:12 Abram dwelled in the land of Canaan, and Lot dwelled in the cities of the plain, and pitched his tent toward Sodom. \n",
      "16:3 And Sarai Abram's wife took Hagar her maid the Egyptian, after Abram had dwelt ten years in the land of Canaan, and gave her to her husband Abram to be his wife. \n",
      "17:8 And I will give unto thee, and to thy seed after thee, the land wherein thou art a stranger, all the land of Canaan, for an everlasting possession; and I will be their God. \n"
     ]
    }
   ],
   "source": [
    "cat ./Dados/genesis.txt | grep 'the land of' | sed 10q"
   ]
  },
  {
   "cell_type": "code",
   "execution_count": 63,
   "metadata": {},
   "outputs": [
    {
     "name": "stdout",
     "output_type": "stream",
     "text": [
      "187\n"
     ]
    }
   ],
   "source": [
    "! cat ./Dados/genesis.txt | grep 'God' | wc -l"
   ]
  },
  {
   "cell_type": "code",
   "execution_count": 64,
   "metadata": {},
   "outputs": [
    {
     "name": "stdout",
     "output_type": "stream",
     "text": [
      "233\n"
     ]
    }
   ],
   "source": [
    "! cat ./Dados/genesis.txt | grep -o 'God' | wc -l"
   ]
  },
  {
   "cell_type": "code",
   "execution_count": 62,
   "metadata": {},
   "outputs": [
    {
     "name": "stdout",
     "output_type": "stream",
     "text": [
      "238\n"
     ]
    }
   ],
   "source": [
    "! cat ./Dados/genesis.txt | grep -io 'God' | wc -l"
   ]
  },
  {
   "cell_type": "code",
   "execution_count": 57,
   "metadata": {},
   "outputs": [
    {
     "name": "stdout",
     "output_type": "stream",
     "text": [
      "238\n"
     ]
    }
   ],
   "source": [
    "! cat ./Dados/genesis.txt | tr '[A-Z]' '[a-z]' | tr -sc '[a-z]' '[\\012*]' | grep 'god' | wc -l"
   ]
  },
  {
   "cell_type": "markdown",
   "metadata": {},
   "source": [
    "#### Retirando os números e encontrando a palavra God"
   ]
  },
  {
   "cell_type": "code",
   "execution_count": 79,
   "metadata": {},
   "outputs": [
    {
     "name": "stdout",
     "output_type": "stream",
     "text": [
      " In the beginning God created the heaven and the earth. \n",
      " And the earth was without form, and void; and darkness was upon the face of the deep. And the Spirit of God moved upon the face of the waters. \n",
      " And God said, Let there be light and there was light. \n",
      " And God saw the light, that it was good and God divided the light from the darkness. \n",
      " And God called the light Day, and the darkness he called Night. And the evening and the morning were the first day. \n",
      " And God said, Let there be a firmament in the midst of the waters, and let it divide the waters from the waters. \n",
      " And God made the firmament, and divided the waters which were under the firmament from the waters which were above the firmament and it was so. \n",
      " And God called the firmament Heaven. And the evening and the morning were the second day. \n",
      " And God said, Let the waters under the heaven be gathered together unto one place, and let the dry land appear and it was so. \n",
      " And God called the dry land Earth; and the gathering together of the waters called he Seas and God saw that it was good. \n"
     ]
    }
   ],
   "source": [
    "! cat ./Dados/genesis.txt | tr -d '[0-9:]' | grep 'God' | sed 10q"
   ]
  },
  {
   "cell_type": "markdown",
   "metadata": {},
   "source": [
    "#### Linhas que não começam por \"And\""
   ]
  },
  {
   "cell_type": "code",
   "execution_count": 86,
   "metadata": {},
   "outputs": [
    {
     "name": "stdout",
     "output_type": "stream",
     "text": [
      "The First Book of Moses  Called Genesis \n",
      "\n",
      " In the beginning God created the heaven and the earth. \n",
      " So God created man in his own image, in the image of God created he him; male and female created he them. \n",
      " Thus the heavens and the earth were finished, and all the host of them. \n",
      " These are the generations of the heavens and of the earth when they were created, in the day that the LORD God made the earth and the heavens,  And every plant of the field before it was in the earth, and every herb of the field before it grew for the LORD God had not caused it to rain upon the earth, and there was not a man to till the ground. \n",
      " But there went up a mist from the earth, and watered the whole face of the ground. \n",
      " The name of the first is Pison that is it which compasseth the whole land of Havilah, where there is gold;  And the gold of that land is good there is bdellium and the onyx stone. \n",
      " Therefore shall a man leave his father and his mother, and shall cleave unto his wife and they shall be one flesh. \n",
      " Now the serpent was more subtil than any beast of the field which the LORD God had made. And he said unto the woman, Yea, hath God said, Ye shall not eat of every tree of the garden?   And the woman said unto the serpent, We may eat of the fruit of the trees of the garden  But of the fruit of the tree which is in the midst of the garden, God hath said, Ye shall not eat of it, neither shall ye touch it, lest ye die. \n",
      "grep: erro de escrita: Pipe quebrado\n",
      "tr: erro de escrita: Pipe quebrado\n",
      "tr: erro de escrita\n",
      "cat: erro de escrita: Pipe quebrado\n"
     ]
    }
   ],
   "source": [
    "! cat ./Dados/genesis.txt | tr -d '[0-9:]' | grep -v '^ And' | sed 10q"
   ]
  },
  {
   "cell_type": "markdown",
   "metadata": {},
   "source": [
    "#### Exercícios com grep / egrep\n",
    "\n",
    "1) Quantas palavras maiúsculas há no Genesis?  \n",
    "2) Quantas palavras de 4 letras?  \n",
    "3) Há palavras sem vogais?  \n",
    "4) Há palavras com apenas uma sílaba (somente uma vogal)?  \n",
    "5) Encontre as palavras com exatemente duas sílabas (duas vogais não adjacentes)  \n",
    "6) Algumas palavras contêm duas vogais que soam como uma apenas. Retire da lista de palavras com duas vogais aquelas que contem um \"e\" mudo.  \n",
    "7) Retire da lista de palavras com duas vogais os ditongos (vogais adjacentes)  \n",
    "8) Encontre versículos do Genesis com a palavra \"light.\"  "
   ]
  },
  {
   "cell_type": "code",
   "execution_count": null,
   "metadata": {},
   "outputs": [],
   "source": []
  }
 ],
 "metadata": {
  "kernelspec": {
   "display_name": "Python 3",
   "language": "python",
   "name": "python3"
  },
  "language_info": {
   "codemirror_mode": {
    "name": "ipython",
    "version": 3
   },
   "file_extension": ".py",
   "mimetype": "text/x-python",
   "name": "python",
   "nbconvert_exporter": "python",
   "pygments_lexer": "ipython3",
   "version": "3.6.6"
  }
 },
 "nbformat": 4,
 "nbformat_minor": 2
}
