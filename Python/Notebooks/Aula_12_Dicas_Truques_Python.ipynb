{
 "cells": [
  {
   "cell_type": "markdown",
   "metadata": {},
   "source": [
    "FGV - EMAp - Escola de Matemática Aplicada\n",
    "==\n",
    "Introdução à Programação com a Linguagem Python\n",
    "--"
   ]
  },
  {
   "cell_type": "markdown",
   "metadata": {},
   "source": [
    "## Dicas e Truques em Python"
   ]
  },
  {
   "cell_type": "markdown",
   "metadata": {},
   "source": [
    "### Uso de \"any\" e de \"all\""
   ]
  },
  {
   "cell_type": "code",
<<<<<<< HEAD
   "execution_count": 2,
=======
   "execution_count": 1,
>>>>>>> renatoRepo/master
   "metadata": {},
   "outputs": [
    {
     "name": "stdout",
     "output_type": "stream",
     "text": [
      "At least one True\n",
      "At least one True and one False\n"
     ]
    }
   ],
   "source": [
    "x = [True, True, False]\n",
    "if any(x):\n",
    "    print(\"At least one True\")\n",
    "if all(x):\n",
    "    print(\"Not one False\")\n",
    "if any(x) and not all(x):\n",
    "    print(\"At least one True and one False\")"
   ]
  },
  {
   "cell_type": "markdown",
   "metadata": {},
   "source": [
    "### Try and Except\n",
    "[Tipos de erro](https://stackabuse.com/python-exception-handling/) no Python\n",
    "\n",
    "O comando try permite que você teste se há erros no bloco de código.  \n",
    "O comando except permite que você trate deste erro.  \n",
    "O comando finally permite que você execute um código independente de ter havido erro ou não.    "
   ]
  },
  {
   "cell_type": "code",
   "execution_count": 2,
   "metadata": {},
   "outputs": [],
   "source": [
    "x = 2\n",
    "y = [1,3]"
   ]
  },
  {
   "cell_type": "code",
   "execution_count": 3,
   "metadata": {},
   "outputs": [
    {
     "ename": "TypeError",
     "evalue": "unsupported operand type(s) for +: 'int' and 'list'",
     "output_type": "error",
     "traceback": [
      "\u001b[0;31m---------------------------------------------------------------------------\u001b[0m",
      "\u001b[0;31mTypeError\u001b[0m                                 Traceback (most recent call last)",
      "\u001b[0;32m<ipython-input-3-1ce410750f60>\u001b[0m in \u001b[0;36m<module>\u001b[0;34m()\u001b[0m\n\u001b[0;32m----> 1\u001b[0;31m \u001b[0mx\u001b[0m \u001b[0;34m+\u001b[0m \u001b[0my\u001b[0m \u001b[0;31m# vai dar erro\u001b[0m\u001b[0;34m\u001b[0m\u001b[0m\n\u001b[0m",
      "\u001b[0;31mTypeError\u001b[0m: unsupported operand type(s) for +: 'int' and 'list'"
     ]
    }
   ],
   "source": [
    "x + y # vai dar erro"
   ]
  },
  {
   "cell_type": "code",
   "execution_count": 4,
   "metadata": {},
   "outputs": [
    {
     "name": "stdout",
     "output_type": "stream",
     "text": [
      "Ocorreu um erro\n"
     ]
    }
   ],
   "source": [
    "try:\n",
    "    x + y \n",
    "except:\n",
    "    print(\"Ocorreu um erro\")"
   ]
  },
  {
   "cell_type": "code",
   "execution_count": 5,
   "metadata": {},
   "outputs": [
    {
     "name": "stdout",
     "output_type": "stream",
     "text": [
      "Ocorreu um erro\n"
     ]
    }
   ],
   "source": [
    "try:\n",
    "    x + y \n",
    "except:\n",
    "    print(\"Ocorreu um erro\")\n",
    "else:\n",
    "    print(\"tá tudo certo com o código\")"
   ]
  },
  {
   "cell_type": "code",
   "execution_count": 7,
   "metadata": {},
   "outputs": [
    {
     "name": "stdout",
     "output_type": "stream",
     "text": [
      "Ocorreu um erro\n",
      "saímos do bloco\n"
     ]
    }
   ],
   "source": [
    "try:\n",
    "    x + y \n",
    "except:\n",
    "    print(\"Ocorreu um erro\")\n",
    "else:\n",
    "    print(\"tá tudo certo com o código\")\n",
    "finally:\n",
    "    print(\"saímos do bloco\")"
   ]
  },
  {
   "cell_type": "code",
   "execution_count": 8,
   "metadata": {},
   "outputs": [
    {
     "name": "stdout",
     "output_type": "stream",
     "text": [
      "Exception caught:unsupported operand type(s) for +: 'int' and 'list'\n"
     ]
    }
   ],
   "source": [
    "try:\n",
    "    x + y \n",
    "except Exception as e:\n",
    "    print(\"Exception caught:\" + str(e))"
   ]
  },
  {
   "cell_type": "code",
   "execution_count": 58,
   "metadata": {},
   "outputs": [
    {
     "name": "stdout",
     "output_type": "stream",
     "text": [
      "Erro de Tipo\n"
     ]
    }
   ],
   "source": [
    "try:\n",
    "    x + y \n",
    "except TypeError:\n",
    "    print(\"Erro de Tipo\")\n",
    "    \n",
    "except ValueError:\n",
    "    print(\"Erro de valor\")\n",
    "    \n",
    "except Exception as e:\n",
    "    print(\"Exception caught:\" + str(e))"
   ]
  },
  {
   "cell_type": "code",
   "execution_count": 9,
   "metadata": {},
   "outputs": [
    {
     "name": "stdout",
     "output_type": "stream",
     "text": [
      "I/O error(2): No such file or directory\n"
     ]
    }
   ],
   "source": [
    "import sys\n",
    "\n",
    "try:\n",
    "    f = open('integers.txt')\n",
    "    s = f.readline()\n",
    "    i = int(s.strip())\n",
    "except IOError as e:\n",
    "    errno, strerror = e.args\n",
    "    print(\"I/O error({0}): {1}\".format(errno,strerror))\n",
    "    # e can be printed directly without using .args:\n",
    "    # print(e)\n",
    "except ValueError:\n",
    "    print(\"No valid integer in line.\")\n",
    "except Exception as e:\n",
    "    print(\"Exception caught:\" + str(e))\n",
    "    raise"
   ]
  },
  {
   "cell_type": "markdown",
   "metadata": {},
   "source": [
    "### Módulo Collections"
   ]
  },
  {
   "cell_type": "code",
   "execution_count": 2,
   "metadata": {},
   "outputs": [],
   "source": [
    "from collections import OrderedDict, Counter, defaultdict"
   ]
  },
  {
   "cell_type": "code",
   "execution_count": 62,
   "metadata": {},
   "outputs": [
    {
     "name": "stdout",
     "output_type": "stream",
     "text": [
      "OrderedDict([('um', 1), ('quatro', 4), ('dois', 2), ('tres', 3)])\n",
      "{'segundo': 2, 'quinto': 5, 'terceiro': 3, 'quarto': 4, 'primeiro': 1}\n"
     ]
    }
   ],
   "source": [
    "#OrderedDict\n",
    "# Remembers the order the keys are added!\n",
    "\n",
    "x = OrderedDict()\n",
    "x['um'] = 1\n",
    "x['quatro'] = 4\n",
    "x['dois'] = 2\n",
    "x['tres'] = 3\n",
    "print(x)\n",
    "\n",
    "x = {'primeiro':1, 'segundo':2, 'quinto':5,'terceiro':3, 'quarto':4}\n",
    "print(x)"
   ]
  },
  {
   "cell_type": "code",
   "execution_count": 63,
   "metadata": {},
   "outputs": [
    {
     "data": {
      "text/plain": [
       "Counter({' ': 1,\n",
       "         '!': 1,\n",
       "         'H': 1,\n",
       "         'W': 1,\n",
       "         'd': 1,\n",
       "         'e': 1,\n",
       "         'l': 3,\n",
       "         'o': 2,\n",
       "         'r': 1})"
      ]
     },
     "execution_count": 63,
     "metadata": {},
     "output_type": "execute_result"
    }
   ],
   "source": [
    "# Counts the frequency of each character\n",
    "y = Counter(\"Hello World!\")\n",
    "y"
   ]
  },
  {
   "cell_type": "code",
   "execution_count": 68,
   "metadata": {},
   "outputs": [
    {
     "ename": "KeyError",
     "evalue": "'uma chave'",
     "output_type": "error",
     "traceback": [
      "\u001b[0;31m---------------------------------------------------------------------------\u001b[0m",
      "\u001b[0;31mKeyError\u001b[0m                                  Traceback (most recent call last)",
      "\u001b[0;32m<ipython-input-68-973173f9b1fc>\u001b[0m in \u001b[0;36m<module>\u001b[0;34m()\u001b[0m\n\u001b[1;32m      1\u001b[0m \u001b[0mf\u001b[0m \u001b[0;34m=\u001b[0m \u001b[0;34m{\u001b[0m\u001b[0;34m}\u001b[0m\u001b[0;34m\u001b[0m\u001b[0m\n\u001b[0;32m----> 2\u001b[0;31m \u001b[0mf\u001b[0m\u001b[0;34m[\u001b[0m\u001b[0;34m'uma chave'\u001b[0m\u001b[0;34m]\u001b[0m\u001b[0;34m\u001b[0m\u001b[0m\n\u001b[0m",
      "\u001b[0;31mKeyError\u001b[0m: 'uma chave'"
     ]
    }
   ],
   "source": [
    "f = {}\n",
    "f['uma chave'] #vai dar erro"
   ]
  },
  {
   "cell_type": "code",
   "execution_count": 71,
   "metadata": {},
   "outputs": [
    {
     "data": {
      "text/plain": [
       "defaultdict(list, {})"
      ]
     },
     "execution_count": 71,
     "metadata": {},
     "output_type": "execute_result"
    }
   ],
   "source": [
    "d = defaultdict(list)\n",
    "d"
   ]
  },
  {
   "cell_type": "code",
   "execution_count": 72,
   "metadata": {},
   "outputs": [],
   "source": [
    "d['chave existente'] = 34"
   ]
  },
  {
   "cell_type": "code",
   "execution_count": 73,
   "metadata": {},
   "outputs": [
    {
     "data": {
      "text/plain": [
       "34"
      ]
     },
     "execution_count": 73,
     "metadata": {},
     "output_type": "execute_result"
    }
   ],
   "source": [
    "d['chave existente']"
   ]
  },
  {
   "cell_type": "code",
   "execution_count": 74,
   "metadata": {},
   "outputs": [
    {
     "data": {
      "text/plain": [
       "[]"
      ]
     },
     "execution_count": 74,
     "metadata": {},
     "output_type": "execute_result"
    }
   ],
   "source": [
    "d['qualquer outra chave']"
   ]
  },
  {
   "cell_type": "markdown",
   "metadata": {},
   "source": [
    "### Operator overloading"
   ]
  },
  {
   "cell_type": "code",
   "execution_count": 78,
   "metadata": {},
   "outputs": [],
   "source": [
    "class Thing:\n",
    "    def __init__(self, value):\n",
    "        self.__value = value\n",
    "        \n",
    "    def __gt__(self, other):\n",
    "        return self.__value > other.__value\n",
    "    \n",
    "    def __lt__(self, other):\n",
    "        return self.__value < other.__value\n",
    "    \n",
    "something = Thing(100)\n",
    "nothing = Thing(10)"
   ]
  },
  {
   "cell_type": "code",
   "execution_count": 79,
   "metadata": {},
   "outputs": [
    {
     "data": {
      "text/plain": [
       "True"
      ]
     },
     "execution_count": 79,
     "metadata": {},
     "output_type": "execute_result"
    }
   ],
   "source": [
    "something > nothing"
   ]
  },
  {
   "cell_type": "code",
   "execution_count": 80,
   "metadata": {},
   "outputs": [
    {
     "data": {
      "text/plain": [
       "False"
      ]
     },
     "execution_count": 80,
     "metadata": {},
     "output_type": "execute_result"
    }
   ],
   "source": [
    "something < nothing"
   ]
  },
  {
   "cell_type": "code",
   "execution_count": 81,
   "metadata": {},
   "outputs": [
    {
     "ename": "TypeError",
     "evalue": "unsupported operand type(s) for +: 'Thing' and 'Thing'",
     "output_type": "error",
     "traceback": [
      "\u001b[0;31m---------------------------------------------------------------------------\u001b[0m",
      "\u001b[0;31mTypeError\u001b[0m                                 Traceback (most recent call last)",
      "\u001b[0;32m<ipython-input-81-5fbac983769e>\u001b[0m in \u001b[0;36m<module>\u001b[0;34m()\u001b[0m\n\u001b[0;32m----> 1\u001b[0;31m \u001b[0msomething\u001b[0m \u001b[0;34m+\u001b[0m \u001b[0mnothing\u001b[0m \u001b[0;31m# erro\u001b[0m\u001b[0;34m\u001b[0m\u001b[0m\n\u001b[0m",
      "\u001b[0;31mTypeError\u001b[0m: unsupported operand type(s) for +: 'Thing' and 'Thing'"
     ]
    }
   ],
   "source": [
    "something + nothing # erro"
   ]
  },
  {
   "cell_type": "code",
   "execution_count": 82,
   "metadata": {},
   "outputs": [],
   "source": [
    "class Thing:\n",
    "    def __init__(self, value):\n",
    "        self.__value = value\n",
    "    def __gt__(self, other):\n",
    "        return self.__value > other.__value\n",
    "    def __lt__(self, other):\n",
    "        return self.__value < other.__value\n",
    "    def __add__(self, other):\n",
    "        return self.__value + other.__value\n",
    "    \n",
    "something = Thing(100)\n",
    "nothing = Thing(10)"
   ]
  },
  {
   "cell_type": "code",
   "execution_count": 83,
   "metadata": {},
   "outputs": [
    {
     "data": {
      "text/plain": [
       "110"
      ]
     },
     "execution_count": 83,
     "metadata": {},
     "output_type": "execute_result"
    }
   ],
   "source": [
    "something + nothing"
   ]
  },
  {
   "cell_type": "code",
   "execution_count": 84,
   "metadata": {},
   "outputs": [
    {
     "data": {
      "text/plain": [
       "110"
      ]
     },
     "execution_count": 84,
     "metadata": {},
     "output_type": "execute_result"
    }
   ],
   "source": [
    "nothing + something"
   ]
  },
  {
   "cell_type": "markdown",
   "metadata": {},
   "source": [
    "### Threads  \n",
    "https://www.tutorialspoint.com/python3/python_multithreading.htm  "
   ]
  },
  {
   "cell_type": "code",
   "execution_count": 10,
   "metadata": {},
   "outputs": [],
   "source": [
    "import threading\n",
    "import time"
   ]
  },
  {
   "cell_type": "code",
   "execution_count": 14,
   "metadata": {},
   "outputs": [],
   "source": [
    "exitFlag = 0"
   ]
  },
  {
   "cell_type": "code",
   "execution_count": 32,
   "metadata": {},
   "outputs": [],
   "source": [
    "class myThread(threading.Thread):\n",
    "    def __init__(self, threadID, name, counter, delay):\n",
    "        threading.Thread.__init__(self)\n",
    "        self.threadID = threadID\n",
    "        self.name = name\n",
    "        self.counter = counter\n",
    "        self.delay = delay\n",
    "        \n",
    "    def run(self):\n",
    "        print (\"Starting {}...\\n \".format(self.name))\n",
    "        print_time(self.name, self.counter, self.delay)\n",
    "        print (\"Exiting {}... \\n \".format(self.name))\n",
    "\n",
    "def print_time(threadName, counter, delay):\n",
    "    while counter:\n",
    "        if exitFlag:\n",
    "            threadName.exit()\n",
    "        time.sleep(delay)\n",
    "        print (\"{}: {}\\n\".format(threadName, time.ctime(time.time())))\n",
    "        counter -= 1"
   ]
  },
  {
   "cell_type": "code",
   "execution_count": 33,
   "metadata": {},
   "outputs": [],
   "source": [
    "# Create new threads\n",
    "thread1 = myThread(1, \"Thread-1\", 5, 1)\n",
    "thread2 = myThread(2, \"Thread-2\", 5, 2)\n",
    "thread3 = myThread(3, \"Thread-3\", 5, 2)"
   ]
  },
  {
   "cell_type": "code",
   "execution_count": 34,
   "metadata": {},
   "outputs": [
    {
     "name": "stdout",
     "output_type": "stream",
     "text": [
      "Starting Thread-1...\n",
      " \n",
      "Starting Thread-2...\n",
      " \n",
      "Starting Thread-3...\n",
      " \n",
      "Thread-1: Mon Oct  8 10:50:37 2018\n",
      "\n",
      "Thread-1: Mon Oct  8 10:50:38 2018\n",
      "Thread-2: Mon Oct  8 10:50:38 2018\n",
      "\n",
      "\n",
      "Thread-3: Mon Oct  8 10:50:38 2018\n",
      "\n",
      "Thread-1: Mon Oct  8 10:50:39 2018\n",
      "\n",
      "Thread-2: Mon Oct  8 10:50:40 2018\n",
      "\n",
      "Thread-1: Mon Oct  8 10:50:40 2018\n",
      "\n",
      "Thread-3: Mon Oct  8 10:50:40 2018\n",
      "\n",
      "Thread-1: Mon Oct  8 10:50:41 2018\n",
      "\n",
      "Exiting Thread-1... \n",
      " \n",
      "Thread-2: Mon Oct  8 10:50:42 2018\n",
      "\n",
      "Thread-3: Mon Oct  8 10:50:42 2018\n",
      "\n",
      "Thread-2: Mon Oct  8 10:50:44 2018\n",
      "\n",
      "Thread-3: Mon Oct  8 10:50:44 2018\n",
      "\n",
      "Thread-2: Mon Oct  8 10:50:46 2018\n",
      "\n",
      "Exiting Thread-2... \n",
      " \n",
      "Thread-3: Mon Oct  8 10:50:46 2018\n",
      "\n",
      "Exiting Thread-3... \n",
      " \n",
      "Exiting Main Thread\n"
     ]
    }
   ],
   "source": [
    "# Start new Threads\n",
    "thread1.start() #chama o método run\n",
    "thread2.start()\n",
    "thread3.start()\n",
    "thread1.join() #aguarda que o thread termine\n",
    "thread2.join()\n",
    "thread3.join()\n",
    "print (\"Exiting Main Thread\")"
   ]
  },
  {
   "cell_type": "markdown",
   "metadata": {},
   "source": [
    "### __repr__"
   ]
  },
  {
   "cell_type": "code",
   "execution_count": 94,
   "metadata": {},
   "outputs": [],
   "source": [
    "class someClass:\n",
    "    def __repr__(self):\n",
    "        return \"descreve o que aparecerá quando invocarmos <print>\"\n",
    "    \n",
    "someInstance = someClass()"
   ]
  },
  {
   "cell_type": "code",
   "execution_count": 95,
   "metadata": {},
   "outputs": [
    {
     "name": "stdout",
     "output_type": "stream",
     "text": [
      "descreve o que aparecerá quando invocarmos <print>\n"
     ]
    }
   ],
   "source": [
    "print(someInstance)"
   ]
  },
  {
   "cell_type": "markdown",
   "metadata": {},
   "source": [
    "### sh module  \n",
    "!sudo pip3 install sh  "
   ]
  },
  {
   "cell_type": "code",
   "execution_count": 96,
   "metadata": {},
   "outputs": [
    {
     "ename": "ImportError",
     "evalue": "No module named 'sh'",
     "output_type": "error",
     "traceback": [
      "\u001b[0;31m---------------------------------------------------------------------------\u001b[0m",
      "\u001b[0;31mImportError\u001b[0m                               Traceback (most recent call last)",
      "\u001b[0;32m<ipython-input-96-a21dab79db90>\u001b[0m in \u001b[0;36m<module>\u001b[0;34m()\u001b[0m\n\u001b[0;32m----> 1\u001b[0;31m \u001b[0;32mimport\u001b[0m \u001b[0msh\u001b[0m\u001b[0;34m\u001b[0m\u001b[0m\n\u001b[0m",
      "\u001b[0;31mImportError\u001b[0m: No module named 'sh'"
     ]
    }
   ],
   "source": [
    "import sh"
   ]
  },
  {
   "cell_type": "code",
   "execution_count": 53,
   "metadata": {},
   "outputs": [
    {
     "data": {
      "text/plain": [
       "/home/rsouza/Documentos/FGV_Programming_Languages/Python/Notebooks"
      ]
     },
     "execution_count": 53,
     "metadata": {},
     "output_type": "execute_result"
    }
   ],
   "source": [
    "sh.pwd()"
   ]
  },
  {
   "cell_type": "code",
   "execution_count": 54,
   "metadata": {},
   "outputs": [
    {
     "data": {
      "text/plain": [
       "Aula_0_Jupyter_Notebook.ipynb\n",
       "Aula_10_Escopos.ipynb\n",
       "Aula_11_Classes.ipynb\n",
       "Aula_12_Numpy_Matplotlib_Pandas.ipynb\n",
       "Aula_13_paths_environment_numpy_matplotlib.ipynb\n",
       "Aula_14_Exemplo_Persistencia_de_Dados.ipynb\n",
       "Aula_15_Pandas_EDA.ipynb\n",
       "Aula_16_Acesso_Banco_Dados.ipynb\n",
       "Aula_17_Otimizando_Codigo.ipynb\n",
       "Aula_1_Estruturas_Dados_Padrao.ipynb\n",
       "Aula_2_Importando_Modulos.ipynb\n",
       "Aula_3_Loops_e_condicionais.ipynb\n",
       "Aula_4_Funcoes.ipynb\n",
       "Aula_5_Revisao_Tipos_metodos.ipynb\n",
       "Aula_6_Tipo_Arquivo.ipynb\n",
       "Aula_7_Comprehensions.ipynb\n",
       "Aula_8_Geradores_e_Funcoes_Geradoras.ipynb\n",
       "Aula_9_Programacao_Funcional_Python.ipynb\n",
       "histogram_multihist.ipynb"
      ]
     },
     "execution_count": 54,
     "metadata": {},
     "output_type": "execute_result"
    }
   ],
   "source": [
    "sh.ls()"
   ]
  },
  {
   "cell_type": "code",
   "execution_count": 55,
   "metadata": {},
   "outputs": [
    {
     "data": {
      "text/plain": [
       "rsouza"
      ]
     },
     "execution_count": 55,
     "metadata": {},
     "output_type": "execute_result"
    }
   ],
   "source": [
    "sh.whoami()"
   ]
  },
  {
   "cell_type": "markdown",
   "metadata": {},
   "source": [
    "### Type hints\n",
    "Python é uma linguagem com tipagem dinâmica, o que significa que não é necessário definir os tipos de dados. Desde o Python 3.5, entretanto, você tem a opção de prover dicas sobre os tipos ao definir funções  "
   ]
  },
  {
   "cell_type": "code",
   "execution_count": 97,
   "metadata": {},
   "outputs": [],
   "source": [
    "def addTwo(x):\n",
    "    return x + 2"
   ]
  },
  {
   "cell_type": "code",
   "execution_count": 98,
   "metadata": {},
   "outputs": [],
   "source": [
    "def newaddTwo(x : int) -> int:\n",
    "    return x + 2"
   ]
  },
  {
   "cell_type": "code",
   "execution_count": 99,
   "metadata": {},
   "outputs": [
    {
     "data": {
      "text/plain": [
       "7"
      ]
     },
     "execution_count": 99,
     "metadata": {},
     "output_type": "execute_result"
    }
   ],
   "source": [
    "addTwo(5)"
   ]
  },
  {
   "cell_type": "code",
   "execution_count": 100,
   "metadata": {},
   "outputs": [
    {
     "data": {
      "text/plain": [
       "7"
      ]
     },
     "execution_count": 100,
     "metadata": {},
     "output_type": "execute_result"
    }
   ],
   "source": [
    "newaddTwo(5)"
   ]
  },
  {
   "cell_type": "code",
   "execution_count": 101,
   "metadata": {},
   "outputs": [
    {
     "ename": "TypeError",
     "evalue": "Can't convert 'int' object to str implicitly",
     "output_type": "error",
     "traceback": [
      "\u001b[0;31m---------------------------------------------------------------------------\u001b[0m",
      "\u001b[0;31mTypeError\u001b[0m                                 Traceback (most recent call last)",
      "\u001b[0;32m<ipython-input-101-32b21da1c3d7>\u001b[0m in \u001b[0;36m<module>\u001b[0;34m()\u001b[0m\n\u001b[0;32m----> 1\u001b[0;31m \u001b[0maddTwo\u001b[0m\u001b[0;34m(\u001b[0m\u001b[0;34m'dois'\u001b[0m\u001b[0;34m)\u001b[0m\u001b[0;34m\u001b[0m\u001b[0m\n\u001b[0m",
      "\u001b[0;32m<ipython-input-97-2af3894357c0>\u001b[0m in \u001b[0;36maddTwo\u001b[0;34m(x)\u001b[0m\n\u001b[1;32m      1\u001b[0m \u001b[0;32mdef\u001b[0m \u001b[0maddTwo\u001b[0m\u001b[0;34m(\u001b[0m\u001b[0mx\u001b[0m\u001b[0;34m)\u001b[0m\u001b[0;34m:\u001b[0m\u001b[0;34m\u001b[0m\u001b[0m\n\u001b[0;32m----> 2\u001b[0;31m     \u001b[0;32mreturn\u001b[0m \u001b[0mx\u001b[0m \u001b[0;34m+\u001b[0m \u001b[0;36m2\u001b[0m\u001b[0;34m\u001b[0m\u001b[0m\n\u001b[0m",
      "\u001b[0;31mTypeError\u001b[0m: Can't convert 'int' object to str implicitly"
     ]
    }
   ],
   "source": [
    "addTwo('dois')"
   ]
  },
  {
   "cell_type": "code",
   "execution_count": 102,
   "metadata": {},
   "outputs": [
    {
     "ename": "TypeError",
     "evalue": "Can't convert 'int' object to str implicitly",
     "output_type": "error",
     "traceback": [
      "\u001b[0;31m---------------------------------------------------------------------------\u001b[0m",
      "\u001b[0;31mTypeError\u001b[0m                                 Traceback (most recent call last)",
      "\u001b[0;32m<ipython-input-102-c6f874def61b>\u001b[0m in \u001b[0;36m<module>\u001b[0;34m()\u001b[0m\n\u001b[0;32m----> 1\u001b[0;31m \u001b[0mnewaddTwo\u001b[0m\u001b[0;34m(\u001b[0m\u001b[0;34m'dois'\u001b[0m\u001b[0;34m)\u001b[0m\u001b[0;34m\u001b[0m\u001b[0m\n\u001b[0m",
      "\u001b[0;32m<ipython-input-98-66f4e373ab91>\u001b[0m in \u001b[0;36mnewaddTwo\u001b[0;34m(x)\u001b[0m\n\u001b[1;32m      1\u001b[0m \u001b[0;32mdef\u001b[0m \u001b[0mnewaddTwo\u001b[0m\u001b[0;34m(\u001b[0m\u001b[0mx\u001b[0m \u001b[0;34m:\u001b[0m \u001b[0mint\u001b[0m\u001b[0;34m)\u001b[0m \u001b[0;34m->\u001b[0m \u001b[0mint\u001b[0m\u001b[0;34m:\u001b[0m\u001b[0;34m\u001b[0m\u001b[0m\n\u001b[0;32m----> 2\u001b[0;31m     \u001b[0;32mreturn\u001b[0m \u001b[0mx\u001b[0m \u001b[0;34m+\u001b[0m \u001b[0;36m2\u001b[0m\u001b[0;34m\u001b[0m\u001b[0m\n\u001b[0m",
      "\u001b[0;31mTypeError\u001b[0m: Can't convert 'int' object to str implicitly"
     ]
    }
   ],
   "source": [
    "newaddTwo('dois')"
   ]
  },
  {
   "cell_type": "markdown",
   "metadata": {},
   "source": [
    "### uiid"
   ]
  },
  {
   "cell_type": "code",
   "execution_count": 103,
   "metadata": {},
   "outputs": [],
   "source": [
    "import uuid"
   ]
  },
  {
   "cell_type": "code",
   "execution_count": 121,
   "metadata": {},
   "outputs": [
    {
     "name": "stdout",
     "output_type": "stream",
     "text": [
      "49524aea-9a2b-47bf-9303-466581ad0686\n"
     ]
    }
   ],
   "source": [
    "user_id = uuid.uuid4()\n",
    "print(user_id)"
   ]
  },
  {
   "cell_type": "code",
   "execution_count": 122,
   "metadata": {},
   "outputs": [
    {
     "name": "stdout",
     "output_type": "stream",
     "text": [
      "bbf50fb5-b567-4db5-a1df-3d1bfc31b152\n"
     ]
    }
   ],
   "source": [
    "user_id = uuid.uuid4()\n",
    "print(user_id)"
   ]
  },
  {
   "cell_type": "markdown",
   "metadata": {},
   "source": [
    "### Wikipedia  \n",
    "! sudo pip3 install --upgrade wikipedia  "
   ]
  },
  {
   "cell_type": "code",
   "execution_count": 70,
   "metadata": {},
   "outputs": [],
   "source": [
    "import wikipedia"
   ]
  },
  {
   "cell_type": "code",
   "execution_count": 73,
   "metadata": {},
   "outputs": [
    {
     "name": "stdout",
     "output_type": "stream",
     "text": [
      "Python is an interpreted high-level programming language for general-purpose programming. Created by Guido van Rossum and first released in 1991, Python has a design philosophy that emphasizes code readability, notably using significant whitespace. It provides constructs that enable clear programming on both small and large scales. In July 2018, Van Rossum stepped down as the leader in the language community after 30 years.Python features a dynamic type system and automatic memory management. It supports multiple programming paradigms, including object-oriented, imperative, functional and procedural, and has a large and comprehensive standard library.Python interpreters are available for many operating systems. CPython, the reference implementation of Python, is open source software and has a community-based development model, as do nearly all of Python's other implementations. Python and CPython are managed by the non-profit Python Software Foundation.\n",
      "\n",
      "3ds Max\n",
      "?:\n",
      "ABC (programming language)\n",
      "ALGOL 68\n",
      "APL (programming language)\n",
      "Abaqus\n",
      "Academic Free License\n",
      "Academic conference\n",
      "Alex Martelli\n",
      "Algebra\n"
     ]
    }
   ],
   "source": [
    "result = wikipedia.page('Python (programming language)')\n",
    "print(result.summary)\n",
    "print()\n",
    "for link in result.links[0:10]:\n",
    "    print(link)"
   ]
  },
  {
   "cell_type": "markdown",
   "metadata": {},
   "source": [
    "### Módulo [newspaper](https://newspaper.readthedocs.io/en/latest/)  \n",
    "\n",
    "!sudo pip3 install newspaper3k"
   ]
  },
  {
   "cell_type": "code",
   "execution_count": 123,
   "metadata": {},
   "outputs": [
    {
     "ename": "ImportError",
     "evalue": "No module named 'newspaper'",
     "output_type": "error",
     "traceback": [
      "\u001b[0;31m---------------------------------------------------------------------------\u001b[0m",
      "\u001b[0;31mImportError\u001b[0m                               Traceback (most recent call last)",
      "\u001b[0;32m<ipython-input-123-4b68674f0659>\u001b[0m in \u001b[0;36m<module>\u001b[0;34m()\u001b[0m\n\u001b[0;32m----> 1\u001b[0;31m \u001b[0;32mfrom\u001b[0m \u001b[0mnewspaper\u001b[0m \u001b[0;32mimport\u001b[0m \u001b[0mArticle\u001b[0m\u001b[0;34m\u001b[0m\u001b[0m\n\u001b[0m",
      "\u001b[0;31mImportError\u001b[0m: No module named 'newspaper'"
     ]
    }
   ],
   "source": [
    "from newspaper import Article"
   ]
  },
  {
   "cell_type": "code",
   "execution_count": 23,
   "metadata": {},
   "outputs": [],
   "source": [
    "url = 'http://fox13now.com/2013/12/30/new-year-new-laws-obamacare-pot-guns-and-drones/'\n",
    "article = Article(url)"
   ]
  },
  {
   "cell_type": "code",
   "execution_count": 24,
   "metadata": {},
   "outputs": [],
   "source": [
    "article.download()"
   ]
  },
  {
   "cell_type": "code",
   "execution_count": 26,
   "metadata": {},
   "outputs": [
    {
     "data": {
      "text/plain": [
       "'<!DOCTYPE html>\\n<!--[if lt IE 7]>      <html class=\"no-js lt-ie9 lt-ie8 lt-ie7\"> <![endif]-->\\n<!--[if IE 7]>         <html class=\"no-js lt-ie9 lt-ie8\"> <![endif]-->\\n<!--[if IE 8]>         <html class='"
      ]
     },
     "execution_count": 26,
     "metadata": {},
     "output_type": "execute_result"
    }
   ],
   "source": [
    "article.html[0:200]"
   ]
  },
  {
   "cell_type": "code",
   "execution_count": 27,
   "metadata": {},
   "outputs": [
    {
     "name": "stdout",
     "output_type": "stream",
     "text": [
      "['Cnn Wire']\n",
      "2013-12-30 00:00:00\n",
      "By Leigh Ann Caldwell\n",
      "\n",
      "WASHINGTON (CNN) — Not everyone subscribes to a New Year’s resolution, but Americans will be required to follow new laws in 2014.\n",
      "\n",
      "Some 40,000 measures taking effect range from sweeping, national mandates under Obamacare to marijuana legalization in Colorado, drone prohibition in Illinois and transgender protections in California.\n",
      "\n",
      "Although many new laws are controversial, they made it through legislatures, public referendum or city councils and represent the shifting composition of American beliefs.\n",
      "\n",
      "Federal: Health care, of course, and vending machines\n",
      "\n",
      "The biggest and most politically charged change comes at the federal level with the imposition of a new fee for those adults without health insurance.\n",
      "\n",
      "For 2014, the penalty is either $95 per adult or 1% of family income, whichever results in a larger fine.\n",
      "\n",
      "The Obamacare, of Affordable Care Act, mandate also requires that insurers cover immunizations and some preventive care.\n",
      "\n",
      "Additionally, millions of poor Americans will receive Medicaid benefits starting January 1.\n",
      "\n",
      "Thousands of companies will have to provide calorie counts for products sold in vending machines.\n",
      "\n",
      "Local: Guns, family leave and shark fins\n",
      "\n",
      "Connecticut: While no national legislation was approved to tighten gun laws a year after the Newtown school shooting, Connecticut is implementing a final round of changes to its books: All assault weapons and large capacity magazines must be registered.\n",
      "\n",
      "Oregon: Family leave in Oregon has been expanded to allow eligible employees two weeks of paid leave to handle the death of a family member.\n",
      "\n",
      "California: Homeless youth are eligible to receive food stamps. The previous law had a minimum wage requirement.\n",
      "\n",
      "Delaware: Delaware is the latest in a growing number of states where residents can no longer possess, sell or distribute shark fins, which is considered a delicacy in some East Asian cuisine.\n",
      "\n",
      "Illinois and drones\n",
      "\n",
      "Illinois: passed two laws limiting the use of drones. One prohibits them from interfering with hunters and fisherman. The measure passed after the group People for the Ethical Treatment of Animals said it would use drones to monitor hunters. PETA said it aims through its “air angels” effort to protect against “cruel” and “illegal” hunting.\n",
      "\n",
      "Also in Illinois, another law prohibits the use of drones for law enforcement without a warrant.\n",
      "\n",
      "Gender and voting identity\n",
      "\n",
      "California: Students can use bathrooms and join school athletic teams “consistent with their gender identity,” even if it’s different than their gender at birth.\n",
      "\n",
      "Arkansas: The state becomes the latest state requiring voters show a picture ID at the voting booth.\n",
      "\n",
      "Minimum wage and former felon employment\n",
      "\n",
      "Workers in 13 states and four cities will see increases to the minimum wage.\n",
      "\n",
      "While most amount to less than 15 cents per hour, workers in places like New Jersey, and Connecticut.\n",
      "\n",
      "New Jersey residents voted to raise the state’s minimum wage by $1 to $8.25 per hour. And in Connecticut, lawmakers voted to raise it between 25 and 75 cents to $8.70. The wage would go up to $8 in Rhode Island and New York.\n",
      "\n",
      "California is also raising its minimum wage to $9 per hour, but workers must wait until July to see the addition.\n",
      "\n",
      "Rhode Island: It is the latest state to prohibit employers from requiring job applicants to signify if they have a criminal record on a job application.\n",
      "\n",
      "Social media and pot\n",
      "\n",
      "Oregon: Employers and schools can’t require a job or student applicant to provide passwords to social media accounts.\n",
      "\n",
      "Colorado: Marijuana becomes legal in the state for buyers over 21 at a licensed retail dispensary.\n",
      "\n",
      "(Sourcing: much of this list was obtained from the National Conference of State Legislatures).\n",
      "https://localtvkstu.files.wordpress.com/2012/04/national-news-e1486938949489.jpg?quality=85&strip=all\n",
      "[]\n"
     ]
    }
   ],
   "source": [
    "article.parse()\n",
    "print(article.authors)\n",
    "print(article.publish_date)\n",
    "print(article.text)\n",
    "print(article.top_image)\n",
    "print(article.movies)"
   ]
  },
  {
   "cell_type": "code",
   "execution_count": null,
   "metadata": {},
   "outputs": [],
   "source": []
  }
 ],
 "metadata": {
  "kernelspec": {
   "display_name": "Python 3",
   "language": "python",
   "name": "python3"
  },
  "language_info": {
   "codemirror_mode": {
    "name": "ipython",
    "version": 3
   },
   "file_extension": ".py",
   "mimetype": "text/x-python",
   "name": "python",
   "nbconvert_exporter": "python",
   "pygments_lexer": "ipython3",
<<<<<<< HEAD
   "version": "3.5.2"
=======
   "version": "3.6.6"
>>>>>>> renatoRepo/master
  }
 },
 "nbformat": 4,
 "nbformat_minor": 2
}
