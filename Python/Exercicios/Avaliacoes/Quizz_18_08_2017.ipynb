{
 "cells": [
  {
   "cell_type": "markdown",
   "metadata": {},
   "source": [
    "1 - Dada a lista:"
   ]
  },
  {
   "cell_type": "code",
   "execution_count": 4,
   "metadata": {},
   "outputs": [],
   "source": [
    "lista = [1,2,3,'4',5,6.3,7.4 + 2j,\"123\",[1,2,3], 93, \"98\"] ## Monitor resolveu usando funções"
   ]
  },
  {
   "cell_type": "markdown",
   "metadata": {},
   "source": [
    "Crie um código para imprimir o antecessor e o sucessor de cada elemento de uma lista:\n",
    "+ Caso este elemento seja inteiro, imprimir o valor;  \n",
    "+ Caso seja uma string, imprimir o inteiro correspondente;  \n",
    "+ Caso seja um real, imprima a parte inteira;\n",
    "+ Caso seja um imaginário, imprima a parte inteira e real;\n",
    "+ Caso seja uma sequência, aplique as regras acima para cada elemento da sequência.  "
   ]
  },
  {
   "cell_type": "code",
   "execution_count": 20,
   "metadata": {},
   "outputs": [
    {
     "name": "stdout",
     "output_type": "stream",
     "text": [
      "1\n",
      "3\n",
      "5\n",
      "(7.4+2j)\n",
      "[1, 2, 3]\n",
      "98\n"
     ]
    }
   ],
   "source": [
    "x = 0\n",
    "lista[x]\n",
    "\n",
    "for x in range(0,11,2):\n",
    "    print(lista[x])"
   ]
  },
  {
   "cell_type": "markdown",
   "metadata": {},
   "source": [
    "2 - Os fatores primos de 13195 são 5, 7, 13 e 29. Qual o maior fator primo de 600851475143?  \n",
    "https://projecteuler.net/problem=3  "
   ]
  },
  {
   "cell_type": "code",
   "execution_count": 26,
   "metadata": {},
   "outputs": [],
   "source": [
    "import math\n",
    "import time\n",
    "import random\n",
    "\n",
    "t0 = time.time()\n",
    "numeroAlfa = 600851475143**0.5\n",
    "numeroBeta = int(numeroAlfa)+1\n",
    "print(numeroBeta)\n",
    "primos = [] #criando uma lista vazia\n",
    "for i in range(2,numeroBeta): \n",
    "    k = True \n",
    "    for j in primos: \n",
    "        if i%j==0:\n",
    "            k = False\n",
    "    if k:\n",
    "        primos.append(i)\n",
    "#print(primos)\n",
    "print(primos[-1])\n",
    "\n",
    "\n",
    "#quanto tempo durou o código\n",
    "\n",
    "## Faltaria dividir por todos os números primos encontrados, para ver o maior"
   ]
  },
  {
   "cell_type": "code",
   "execution_count": 1,
   "metadata": {},
   "outputs": [
    {
     "name": "stdout",
     "output_type": "stream",
     "text": [
      "[71, 839, 1471, 6857]\n",
      "0.0014576911926269531\n"
     ]
    }
   ],
   "source": [
    "import time\n",
    "num = 600851475143\n",
    "t = time.time()\n",
    "Fatores = []\n",
    "k = 3\n",
    "while num != 1:\n",
    "    if num%k == 0:\n",
    "        Fatores.append(k)\n",
    "        num = int(num/k)\n",
    "    else:\n",
    "        k +=2\n",
    "print(Fatores)\n",
    "print(time.time()-t)\n",
    "\n",
    "## Esse aqui ele divide a partir do momento que ele acha o menor divisor comum, e ai ele passa a encontrar um numero menor\n",
    "## e fatora-lo"
   ]
  },
  {
   "cell_type": "markdown",
   "metadata": {},
   "source": [
    "3- Crie um programa que imprima os números de 1 a 100, mas nos múltiplos de 3 imprima “Fizz” em vez do  número e nos múltiplos de 5 imprima “Buzz”. Para os números que são múltiplos de tanto 3 como 5, imprima “FizzBuzz”.  "
   ]
  },
  {
   "cell_type": "code",
   "execution_count": null,
   "metadata": {
    "collapsed": true
   },
   "outputs": [],
   "source": [
    "for x in range(1,100,1):\n",
    "    if(x%3==0 and x%5==0):\n",
    "        print('FizzBuzz')\n",
    "    elif(x%3==0):\n",
    "        print('Fizz')\n",
    "    elif(x%5==0):\n",
    "        print('Buzz')\n",
    "    else:\n",
    "        print(x)"
   ]
  },
  {
   "cell_type": "markdown",
   "metadata": {},
   "source": [
    "4- Usando a biblioteca \"random\", crie um programa para calcular a média da soma de dois dados de 6 faces (D6) em 10000 lançamentos."
   ]
  },
  {
   "cell_type": "code",
   "execution_count": 3,
   "metadata": {
    "collapsed": true
   },
   "outputs": [],
   "source": [
    "import random\n",
    "w = 0\n",
    "    \n",
    "for i in range(1,10000,1):\n",
    "    x = random.randrange(1,6)\n",
    "    y = random.randrange(1,6)\n",
    "    \n",
    "    w += y+x    \n",
    "print(w/10000)"
   ]
  },
  {
   "cell_type": "code",
   "execution_count": null,
   "metadata": {
    "collapsed": true
   },
   "outputs": [],
   "source": []
  }
 ],
 "metadata": {
  "kernelspec": {
   "display_name": "Python 3",
   "language": "python",
   "name": "python3"
  },
  "language_info": {
   "codemirror_mode": {
    "name": "ipython",
    "version": 3
   },
   "file_extension": ".py",
   "mimetype": "text/x-python",
   "name": "python",
   "nbconvert_exporter": "python",
   "pygments_lexer": "ipython3",
   "version": "3.5.2"
  }
 },
 "nbformat": 4,
 "nbformat_minor": 2
}
