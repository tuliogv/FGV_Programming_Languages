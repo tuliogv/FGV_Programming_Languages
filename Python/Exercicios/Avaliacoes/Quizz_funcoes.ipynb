{
 "cells": [
  {
   "cell_type": "markdown",
   "metadata": {},
   "source": [
<<<<<<< HEAD
    "1 - Crie uma função que receba uma lista, um elemento e uma posição, e acrescente este elemento em uma posição da lista, retornando a lista ao programa"
=======
    "1 - Crie uma função que receba uma lista, um elemento, uma posição, e acrescente este elemento na posição específica da lista, retornando a lista ao programa"
>>>>>>> renatoRepo/master
   ]
  },
  {
   "cell_type": "code",
   "execution_count": 51,
   "metadata": {},
   "outputs": [],
   "source": [
    "def Num_Pos_Nalista(lista,num,pos):\n",
    "    lista.insert(pos,num)\n",
    "    return lista    \n",
    "    \n",
    "print(Num_Pos_Nalista([2],5,-1))"
   ]
  },
  {
   "cell_type": "code",
   "execution_count": 54,
   "metadata": {},
   "outputs": [
    {
     "data": {
      "text/plain": [
       "[2, 1]"
      ]
     },
     "execution_count": 54,
     "metadata": {},
     "output_type": "execute_result"
    }
   ],
   "source": [
    "lista_principal([2],5,1)"
   ]
  },
  {
   "cell_type": "code",
   "execution_count": 69,
   "metadata": {},
   "outputs": [],
   "source": [
    "lista = []\n",
    "def func_lista(num):\n",
    "    lista.insert(-1,num)\n",
    "    return lista"
   ]
  },
  {
   "cell_type": "code",
   "execution_count": 71,
   "metadata": {},
   "outputs": [
    {
     "data": {
      "text/plain": [
       "[10]"
      ]
     },
     "execution_count": 71,
     "metadata": {},
     "output_type": "execute_result"
    }
   ],
   "source": [
    "func_lista(10)"
   ]
  },
  {
   "cell_type": "markdown",
   "metadata": {},
   "source": [
    "2 - Crie uma função geradora que, ao ser chamada, imprima o tempo que se passou desde a última chamada"
   ]
  },
  {
   "cell_type": "code",
   "execution_count": null,
   "metadata": {},
   "outputs": [],
   "source": []
  },
  {
   "cell_type": "markdown",
   "metadata": {},
   "source": [
    "3 - Crie uma função que receba um número variado de parâmetros e devolva uma lista com todos estes parâmetros concatenados"
   ]
  },
  {
   "cell_type": "code",
   "execution_count": 7,
   "metadata": {},
   "outputs": [
    {
     "name": "stdout",
     "output_type": "stream",
     "text": [
      "[22, 50, 30, 'oi']\n"
     ]
    }
   ],
   "source": [
    "def Num_De_Param(*arg):\n",
    "    lista = list(arg)\n",
    "    return lista\n",
    "\n",
    "print(Num_De_Param(22,50,30,'oi'))"
   ]
  },
  {
   "cell_type": "code",
   "execution_count": null,
   "metadata": {},
   "outputs": [],
   "source": []
  }
 ],
 "metadata": {
  "kernelspec": {
   "display_name": "Python 3",
   "language": "python",
   "name": "python3"
  },
  "language_info": {
   "codemirror_mode": {
    "name": "ipython",
    "version": 3
   },
   "file_extension": ".py",
   "mimetype": "text/x-python",
   "name": "python",
   "nbconvert_exporter": "python",
   "pygments_lexer": "ipython3",
   "version": "3.5.2"
  }
 },
 "nbformat": 4,
 "nbformat_minor": 2
}
