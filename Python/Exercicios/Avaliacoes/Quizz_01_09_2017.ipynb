{
 "cells": [
  {
   "cell_type": "markdown",
   "metadata": {},
   "source": [
    "1 - Dada a string abaixo:"
   ]
  },
  {
   "cell_type": "code",
   "execution_count": null,
   "metadata": {},
   "outputs": [],
   "source": [
    "jgr = 'Só se pode viver perto de outro, e conhecer outra pessoa, \\\n",
    "sem perigo de ódio, se a gente tem amor. Qualquer amor já é um pouquinho \\\n",
    "de saúde, um descanso na loucura.'"
   ]
  },
  {
   "cell_type": "markdown",
   "metadata": {},
   "source": [
    "Use uma list comprehension para criar uma lista de tuplas na forma:\n",
    "(palavra em maiúscula, palavra em minúscula, tamanho da palavra)"
   ]
  },
  {
   "cell_type": "code",
   "execution_count": null,
   "metadata": {},
   "outputs": [],
   "source": [
    "import string\n",
    "palavrasOrdenadas = [pal.strip(string.punctuation) for pal in jgr.split()]\n",
    "palavrasOrdenadas = [(pal.upper(),pal.lower(),len(pal)) for pal in palavrasOrdenadas]\n",
    "print(palavrasOrdenadas)\n"
   ]
  },
  {
   "cell_type": "code",
   "execution_count": null,
   "metadata": {},
   "outputs": [],
   "source": [
    "mundo = 'olá mundo'\n",
    "mundo."
   ]
  },
  {
   "cell_type": "code",
   "execution_count": null,
   "metadata": {},
   "outputs": [],
   "source": []
  },
  {
   "cell_type": "code",
   "execution_count": null,
   "metadata": {},
   "outputs": [],
   "source": []
  },
  {
   "cell_type": "code",
   "execution_count": null,
   "metadata": {},
   "outputs": [],
   "source": []
  },
  {
   "cell_type": "code",
   "execution_count": null,
   "metadata": {},
   "outputs": [],
   "source": [
    "[p.strip(string.punctuation) for p in jgr.split()]"
   ]
  },
  {
   "cell_type": "code",
   "execution_count": null,
   "metadata": {},
   "outputs": [],
   "source": [
    "import string\n",
    "[(words.upper(),words.lower(),len(words)) for words in [p.strip(string.punctuation) for p in jgr.split()]]"
   ]
  },
  {
   "cell_type": "code",
   "execution_count": null,
   "metadata": {},
   "outputs": [],
   "source": [
    "import string\n",
    "[(palavra.upper(),palavra.lower(), len(palavra)) for \\\n",
    " palavra in [p.strip(string.punctuation) for p in jgr.split()]]"
   ]
  },
  {
   "cell_type": "markdown",
   "metadata": {},
   "source": [
    "2 - Extraia, do texto abaixo, um dicionário de frequências de palavras na forma {palavra: frequência}. Limpe o texto o quanto for possível."
   ]
  },
  {
   "cell_type": "code",
   "execution_count": 34,
   "metadata": {},
   "outputs": [],
   "source": [
    "texto = '''\n",
    "Cansaço\n",
    "O que há em mim é sobretudo cansaço —\n",
    "Não disto nem daquilo,\n",
    "Nem sequer de tudo ou de nada:\n",
    "Cansaço assim mesmo, ele mesmo,\n",
    "Cansaço.\n",
    "\n",
    "A subtileza das sensações inúteis,\n",
    "As paixões violentas por coisa nenhuma,\n",
    "Os amores intensos por o suposto em alguém,\n",
    "Essas coisas todas —\n",
    "Essas e o que falta nelas eternamente —;\n",
    "Tudo isso faz um cansaço,\n",
    "Este cansaço,\n",
    "Cansaço. \n",
    "\n",
    "'''"
   ]
  },
  {
   "cell_type": "code",
   "execution_count": 19,
   "metadata": {},
   "outputs": [
    {
     "name": "stdout",
     "output_type": "stream",
     "text": [
      "['cansaço', 'o', 'que', 'há', 'em', 'mim', 'é', 'sobretudo', 'cansaço', ' ', 'não', 'disto', 'nem', 'daquilo', 'nem', 'sequer', 'de', 'tudo', 'ou', 'de', 'nada', 'cansaço', 'assim', 'mesmo', 'ele', 'mesmo', 'cansaço', 'a', 'subtileza', 'das', 'sensações', 'inúteis', 'as', 'paixões', 'violentas', 'por', 'coisa', 'nenhuma', 'os', 'amores', 'intensos', 'por', 'o', 'suposto', 'em', 'alguém', 'essas', 'coisas', 'todas', ' ', 'essas', 'e', 'o', 'que', 'falta', 'nelas', 'eternamente', ' ', 'tudo', 'isso', 'faz', 'um', 'cansaço', 'este', 'cansaço', 'cansaço']\n"
     ]
    }
   ],
   "source": [
    "import string\n",
    "textoWord = [word.strip(string.punctuation) for word in texto.split()]\n",
    "textoWord = [word.lower() for word in textoWord]\n",
    "textoWord = [word.replace(\"—\",\" \") for word in textoWord]\n",
    "print(textoWord)\n"
   ]
  },
  {
   "cell_type": "code",
   "execution_count": 27,
   "metadata": {},
   "outputs": [
    {
     "name": "stdout",
     "output_type": "stream",
     "text": [
      "[{'cansaço': 7}, {'o': 3}, {'que': 2}, {'há': 1}, {'em': 2}, {'mim': 1}, {'é': 1}, {'sobretudo': 1}, {'cansaço': 7}, {' ': 3}, {'não': 1}, {'disto': 1}, {'nem': 2}, {'daquilo': 1}, {'nem': 2}, {'sequer': 1}, {'de': 2}, {'tudo': 2}, {'ou': 1}, {'de': 2}, {'nada': 1}, {'cansaço': 7}, {'assim': 1}, {'mesmo': 2}, {'ele': 1}, {'mesmo': 2}, {'cansaço': 7}, {'a': 1}, {'subtileza': 1}, {'das': 1}, {'sensações': 1}, {'inúteis': 1}, {'as': 1}, {'paixões': 1}, {'violentas': 1}, {'por': 2}, {'coisa': 1}, {'nenhuma': 1}, {'os': 1}, {'amores': 1}, {'intensos': 1}, {'por': 2}, {'o': 3}, {'suposto': 1}, {'em': 2}, {'alguém': 1}, {'essas': 2}, {'coisas': 1}, {'todas': 1}, {' ': 3}, {'essas': 2}, {'e': 1}, {'o': 3}, {'que': 2}, {'falta': 1}, {'nelas': 1}, {'eternamente': 1}, {' ': 3}, {'tudo': 2}, {'isso': 1}, {'faz': 1}, {'um': 1}, {'cansaço': 7}, {'este': 1}, {'cansaço': 7}, {'cansaço': 7}]\n"
     ]
    }
   ],
   "source": [
    "textoDic = [{word:textoWord.count(word)} for word in textoWord]\n",
    "print(textoDic)"
   ]
  },
  {
   "cell_type": "code",
   "execution_count": null,
   "metadata": {},
   "outputs": [],
   "source": []
  },
  {
   "cell_type": "code",
   "execution_count": null,
   "metadata": {},
   "outputs": [],
   "source": []
  },
  {
   "cell_type": "code",
   "execution_count": 36,
   "metadata": {},
   "outputs": [
    {
     "name": "stdout",
     "output_type": "stream",
     "text": [
      "['cansaço', 'o', 'que', 'há', 'em', 'mim', 'é', 'sobretudo', 'cansaço', ' ', 'não', 'disto', 'nem', 'daquilo', 'nem', 'sequer', 'de', 'tudo', 'ou', 'de', 'nada', 'cansaço', 'assim', 'mesmo', 'ele', 'mesmo', 'cansaço', 'a', 'subtileza', 'das', 'sensações', 'inúteis', 'as', 'paixões', 'violentas', 'por', 'coisa', 'nenhuma', 'os', 'amores', 'intensos', 'por', 'o', 'suposto', 'em', 'alguém', 'essas', 'coisas', 'todas', ' ', 'essas', 'e', 'o', 'que', 'falta', 'nelas', 'eternamente', ' ', 'tudo', 'isso', 'faz', 'um', 'cansaço', 'este', 'cansaço', 'cansaço']\n"
     ]
    }
   ],
   "source": [
    "import string\n",
    "textoWords = [palavra.lower().replace(\"—\",\" \") for palavra in texto.split()]\n",
    "textoWords = [palavra.strip(string.punctuation) for palavra in textoWords]\n",
    "print(textoWords)"
   ]
  },
  {
   "cell_type": "code",
   "execution_count": 37,
   "metadata": {},
   "outputs": [
    {
     "name": "stdout",
     "output_type": "stream",
     "text": [
      "{'é': 1, 'as': 1, 'suposto': 1, 'paixões': 1, 'essas': 2, 'e': 1, 'sequer': 1, 'nem': 2, 'intensos': 1, 'mesmo': 2, 'assim': 1, 'este': 1, 'subtileza': 1, 'alguém': 1, 'ou': 1, 'sensações': 1, 'faz': 1, 'coisa': 1, 'sobretudo': 1, 'amores': 1, 'violentas': 1, 'há': 1, 'eternamente': 1, 'inúteis': 1, 'isso': 1, ' ': 3, 'por': 2, 'nenhuma': 1, 'tudo': 2, 'em': 2, 'cansaço': 7, 'falta': 1, 'a': 1, 'todas': 1, 'de': 2, 'coisas': 1, 'nada': 1, 'não': 1, 'mim': 1, 'daquilo': 1, 'um': 1, 'que': 2, 'o': 3, 'nelas': 1, 'das': 1, 'ele': 1, 'os': 1, 'disto': 1}\n"
     ]
    }
   ],
   "source": [
    "\n",
    "DicDeFreq = {}\n",
    "for palavrinhas in textoWords:\n",
    "    if palavrinhas in DicDeFreq:\n",
    "        DicDeFreq[palavrinhas] += 1\n",
    "    else: \n",
    "        DicDeFreq[palavrinhas] = 1\n",
    "print(DicDeFreq)    \n"
   ]
  },
  {
   "cell_type": "code",
   "execution_count": 38,
   "metadata": {},
   "outputs": [
    {
     "name": "stdout",
     "output_type": "stream",
     "text": [
      " Cansaço O que há em mim é sobretudo cansaço Não disto nem daquilo Nem sequer de tudo ou de nada Cansaço assim mesmo ele mesmo Cansaço A subtileza das sensações inúteis As paixões violentas por coisa nenhuma Os amores intensos por o suposto em alguém Essas coisas todas Essas e o que falta nelas eternamente Tudo isso faz um cansaço Este cansaço Cansaço \n"
     ]
    }
   ],
   "source": [
    "import re\n",
    "#print(re.sub(r'[^0-9A-ZÁÉÍÓÚÀÕÃÇa-záéíóúàãõç]',' ', texto))\n",
    "print(re.sub(r'[^\\w]+',' ', texto))"
   ]
  },
  {
   "cell_type": "markdown",
   "metadata": {},
   "source": [
    "3- Dadas as características do Calendário Gregoriano:  \n",
    "\n",
    " + Janeiro, Março, Maio, Julho, Agosto, Outubro e Dezembro têm trinta e um dias;\n",
    " + Abril, Junho, Setembro e Novembro têm trinta dias;\n",
    " + Fevereiro tem 28 dias, exceto em anos bissextos, quando tem 29.\n",
    " + Anos bissextos ocorrem quando o ano for divisível por 4, mas não quando for divisível por 100, exceto quando for divisível também por 400.\n",
    " \n",
    " + 1o de Janeiro de 1900 caiu em uma segunda-feira.\n",
    "\n",
    "Responda: Quantos sábados cairam no dia primeiro do mês durante o século XX? (1o de Janeiro de 1901 até 31 Dezembro de 2000)?\n"
   ]
  },
  {
   "cell_type": "code",
   "execution_count": null,
   "metadata": {},
   "outputs": [],
   "source": [
    "data0 = 1900  ## Demarcando 1º de janeiro do ano de 1900\n",
    "dataHoje = 2018\n",
    "\n",
    "listaAnosBissextos = []\n",
    "listaAnosNormais = []\n",
    "listaAnos = list(range(1900,2019))\n",
    "\n",
    "listaDiasDaSemana = []\n",
    "\n",
    "i = 0 \n",
    "\n",
    "listaDiasNoMesAnoNormal = [31,28,31,30,31,30,31,31,30,31,30,31]\n",
    "totalDias1 = sum(listaDiasNoMesAnoNormal)\n",
    "print(totalDias1)\n",
    "listaDiasNoMesAnoBissexto = [31,29,31,30,31,30,31,31,30,31,30,31]\n",
    "totalDias2 = sum(listaDiasNoMesAnoBissexto)\n",
    "print(totalDias2)\n",
    "\n",
    "for data0 in range(data0,dataHoje):\n",
    "    if (data0%4) == 0 and (data0%400) == 0:\n",
    "        listaAnosBissextos.append(data0)\n",
    "    elif (data0%4) == 0 and not (data0%100) == 0: \n",
    "        listaAnosBissextos.append(data0)\n",
    "    else:\n",
    "        listaAnosNormais.append(data0)\n",
    "        \n",
    "print(listaAnosBissextos)\n",
    "print(listaAnosNormais)\n",
    "print(listaAnos)\n",
    "\n",
    "for i in range(len(listaAnos)):\n",
    "    if listaAnosBissextos.count(listaAnos[i]) == 1:\n",
    "        w = 0\n",
    "        for w in range(sum(listaDiasNoMesAnoBissexto)):\n",
    "            \n",
    "                \n",
    "    else:\n",
    "        z = 0\n",
    "        for w in range(sum(listaDiasNoMesAnoBissexto)):\n",
    "            \n",
    "                \n",
    "        \n",
    "print(listaDiasDaSemana)\n",
    "        \n",
    "        "
   ]
  },
  {
   "cell_type": "code",
   "execution_count": 42,
   "metadata": {},
   "outputs": [
    {
     "name": "stdout",
     "output_type": "stream",
     "text": [
      "165\n"
     ]
    }
   ],
   "source": [
    "diasmeses = [0,31,28,31,30,31,30,31,31,30,31,30,31]\n",
    "cont = 0\n",
    "diase = 1\n",
    "ano = 1900\n",
    "\n",
    "for i in range(1,13):\n",
    "    if i == 2:\n",
    "        if (ano%4 == 0 and ano%100 != 0) or ano%400  == 0:\n",
    "            dessemes = 29\n",
    "        else:\n",
    "            dessemes = 28\n",
    "    else:\n",
    "        dessemes = diasmeses[i]\n",
    "    diase = diase + dessemes%7+1\n",
    "    \n",
    "    if diase > 7:\n",
    "        diase = diase - 7\n",
    "ano += 1\n",
    "while ano != 2001:\n",
    "    for i in range(1,13):\n",
    "        if diase == 6:\n",
    "            cont += 1\n",
    "        if i == 2:\n",
    "            if (ano%4 == 0 and ano%100 != 0) or ano%400  == 0:\n",
    "                dessemes = 29\n",
    "            else:\n",
    "                dessemes = 28\n",
    "        else:\n",
    "            dessemes = diasmeses[i]\n",
    "        diase = diase + dessemes%7 + 1\n",
    "        if diase > 7:\n",
    "            diase = diase -7\n",
    "    ano += 1\n",
    "print(cont)"
   ]
  },
  {
   "cell_type": "markdown",
   "metadata": {},
   "source": [
    "4- Procure gerar um número (pseudo-)aleatório entre 0 e 9 de forma criativa, usando funções geradoras e o módulo time. \n",
    "Não utilize o módulo random."
   ]
  },
  {
   "cell_type": "code",
   "execution_count": null,
   "metadata": {},
   "outputs": [],
   "source": [
    "## exemplo para inspirar vocês. Há que se verificar se os números gerados parecem ser aleatórios.\n",
    "import time\n",
    "\n",
    "def numero_aleatorio():\n",
    "    x = time.time()\n",
    "    while True:\n",
    "        num = time.time() - x\n",
    "        #print(num)\n",
    "        num = [n for n in str(num) if n.isdigit()]\n",
    "        num = num[6]\n",
    "        yield int(num)"
   ]
  },
  {
   "cell_type": "code",
   "execution_count": null,
   "metadata": {},
   "outputs": [],
   "source": [
    "gen = numero_aleatorio()\n",
    "next(gen)\n"
   ]
  },
  {
   "cell_type": "code",
   "execution_count": null,
   "metadata": {},
   "outputs": [],
   "source": [
    "import traceback\n",
    "import logging\n",
    "\n",
    "numeros = []\n",
    "for n in range(100000):\n",
    "    try:\n",
    "        numeros.append(next(gen))\n",
    "    except Exception as e:\n",
    "        logging.error(traceback.format_exc())"
   ]
  },
  {
   "cell_type": "code",
   "execution_count": null,
   "metadata": {},
   "outputs": [],
   "source": [
    "from collections import Counter\n",
    "freqdist = Counter(numeros)"
   ]
  },
  {
   "cell_type": "code",
   "execution_count": null,
   "metadata": {},
   "outputs": [],
   "source": [
    "freqdist"
   ]
  },
  {
   "cell_type": "code",
   "execution_count": null,
   "metadata": {},
   "outputs": [],
   "source": []
  }
 ],
 "metadata": {
  "kernelspec": {
   "display_name": "Python 3",
   "language": "python",
   "name": "python3"
  },
  "language_info": {
   "codemirror_mode": {
    "name": "ipython",
    "version": 3
   },
   "file_extension": ".py",
   "mimetype": "text/x-python",
   "name": "python",
   "nbconvert_exporter": "python",
   "pygments_lexer": "ipython3",
   "version": "3.5.2"
  }
 },
 "nbformat": 4,
 "nbformat_minor": 2
}
